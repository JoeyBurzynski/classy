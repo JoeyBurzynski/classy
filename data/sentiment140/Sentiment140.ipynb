{
 "cells": [
  {
   "cell_type": "code",
   "execution_count": 1,
   "metadata": {},
   "outputs": [
    {
     "name": "stdout",
     "output_type": "stream",
     "text": [
      "Requirement already satisfied: datasets in /home/poccio/miniconda3/envs/tmp/lib/python3.7/site-packages (1.4.1)\n",
      "Requirement already satisfied: pandas in /home/poccio/miniconda3/envs/tmp/lib/python3.7/site-packages (from datasets) (1.2.3)\n",
      "Requirement already satisfied: fsspec in /home/poccio/miniconda3/envs/tmp/lib/python3.7/site-packages (from datasets) (0.8.7)\n",
      "Requirement already satisfied: numpy>=1.17 in /home/poccio/miniconda3/envs/tmp/lib/python3.7/site-packages (from datasets) (1.18.3)\n",
      "Requirement already satisfied: multiprocess in /home/poccio/miniconda3/envs/tmp/lib/python3.7/site-packages (from datasets) (0.70.11.1)\n",
      "Requirement already satisfied: pyarrow>=0.17.1 in /home/poccio/miniconda3/envs/tmp/lib/python3.7/site-packages (from datasets) (3.0.0)\n",
      "Requirement already satisfied: tqdm<4.50.0,>=4.27 in /home/poccio/miniconda3/envs/tmp/lib/python3.7/site-packages (from datasets) (4.49.0)\n",
      "Requirement already satisfied: importlib-metadata; python_version < \"3.8\" in /home/poccio/.local/lib/python3.7/site-packages (from datasets) (2.0.0)\n",
      "Requirement already satisfied: requests>=2.19.0 in /home/poccio/miniconda3/envs/tmp/lib/python3.7/site-packages (from datasets) (2.25.1)\n",
      "Requirement already satisfied: xxhash in /home/poccio/miniconda3/envs/tmp/lib/python3.7/site-packages (from datasets) (2.0.0)\n",
      "Requirement already satisfied: huggingface-hub==0.0.2 in /home/poccio/miniconda3/envs/tmp/lib/python3.7/site-packages (from datasets) (0.0.2)\n",
      "Requirement already satisfied: dill in /home/poccio/miniconda3/envs/tmp/lib/python3.7/site-packages (from datasets) (0.3.3)\n",
      "Requirement already satisfied: python-dateutil>=2.7.3 in /home/poccio/miniconda3/envs/tmp/lib/python3.7/site-packages (from pandas->datasets) (2.8.1)\n",
      "Requirement already satisfied: pytz>=2017.3 in /home/poccio/miniconda3/envs/tmp/lib/python3.7/site-packages (from pandas->datasets) (2021.1)\n",
      "Requirement already satisfied: zipp>=0.5 in /home/poccio/.local/lib/python3.7/site-packages (from importlib-metadata; python_version < \"3.8\"->datasets) (3.3.1)\n",
      "Requirement already satisfied: certifi>=2017.4.17 in /home/poccio/miniconda3/envs/tmp/lib/python3.7/site-packages (from requests>=2.19.0->datasets) (2020.4.5.1)\n",
      "Requirement already satisfied: chardet<5,>=3.0.2 in /home/poccio/miniconda3/envs/tmp/lib/python3.7/site-packages (from requests>=2.19.0->datasets) (4.0.0)\n",
      "Requirement already satisfied: idna<3,>=2.5 in /home/poccio/miniconda3/envs/tmp/lib/python3.7/site-packages (from requests>=2.19.0->datasets) (2.10)\n",
      "Requirement already satisfied: urllib3<1.27,>=1.21.1 in /home/poccio/miniconda3/envs/tmp/lib/python3.7/site-packages (from requests>=2.19.0->datasets) (1.26.3)\n",
      "Requirement already satisfied: filelock in /home/poccio/.local/lib/python3.7/site-packages (from huggingface-hub==0.0.2->datasets) (3.0.12)\n",
      "Requirement already satisfied: six>=1.5 in /home/poccio/miniconda3/envs/tmp/lib/python3.7/site-packages (from python-dateutil>=2.7.3->pandas->datasets) (1.14.0)\n"
     ]
    }
   ],
   "source": [
    "! pip install datasets"
   ]
  },
  {
   "cell_type": "code",
   "execution_count": 2,
   "metadata": {},
   "outputs": [],
   "source": [
    "from datasets import load_dataset\n",
    "from tqdm.notebook import tqdm"
   ]
  },
  {
   "cell_type": "code",
   "execution_count": 3,
   "metadata": {},
   "outputs": [
    {
     "name": "stderr",
     "output_type": "stream",
     "text": [
      "Reusing dataset sentiment140 (/home/poccio/.cache/huggingface/datasets/sentiment140/sentiment140/1.0.0/9fe1c0ce3319c47cc65ff7e49aac6c34d9c050ab1432988c104b3b275e360f3f)\n"
     ]
    }
   ],
   "source": [
    "dataset = load_dataset('sentiment140')"
   ]
  },
  {
   "cell_type": "code",
   "execution_count": 4,
   "metadata": {},
   "outputs": [
    {
     "data": {
      "application/vnd.jupyter.widget-view+json": {
       "model_id": "c5befcefaa6241c1802a040f759fc4f8",
       "version_major": 2,
       "version_minor": 0
      },
      "text/plain": [
       "HBox(children=(FloatProgress(value=0.0, max=1600000.0), HTML(value='')))"
      ]
     },
     "metadata": {},
     "output_type": "display_data"
    },
    {
     "name": "stdout",
     "output_type": "stream",
     "text": [
      "\n"
     ]
    },
    {
     "data": {
      "application/vnd.jupyter.widget-view+json": {
       "model_id": "a55ca5c6d9834657a9aec89f099e9857",
       "version_major": 2,
       "version_minor": 0
      },
      "text/plain": [
       "HBox(children=(FloatProgress(value=0.0, max=498.0), HTML(value='')))"
      ]
     },
     "metadata": {},
     "output_type": "display_data"
    },
    {
     "name": "stdout",
     "output_type": "stream",
     "text": [
      "\n"
     ]
    }
   ],
   "source": [
    "for k in ['train', 'test']:\n",
    "    with open(f'{k}.tsv', 'w') as f:\n",
    "        for instance in tqdm(dataset[k]):\n",
    "            text, sentiment = instance['text'].replace('\\t', '    '), instance['sentiment']\n",
    "            f.write(f'{text}\\t{sentiment}\\n')"
   ]
  },
  {
   "cell_type": "code",
   "execution_count": 5,
   "metadata": {},
   "outputs": [
    {
     "name": "stdout",
     "output_type": "stream",
     "text": [
      "@switchfoot http://twitpic.com/2y1zl - Awww, that's a bummer.  You shoulda got David Carr of Third Day to do it. ;D\t0\r\n",
      "is upset that he can't update his Facebook by texting it... and might cry as a result  School today also. Blah!\t0\r\n",
      "@Kenichan I dived many times for the ball. Managed to save 50%  The rest go out of bounds\t0\r\n",
      "my whole body feels itchy and like its on fire \t0\r\n",
      "@nationwideclass no, it's not behaving at all. i'm mad. why am i here? because I can't see you all over there. \t0\r\n"
     ]
    }
   ],
   "source": [
    "! head -5 train.tsv"
   ]
  },
  {
   "cell_type": "code",
   "execution_count": 6,
   "metadata": {},
   "outputs": [
    {
     "name": "stdout",
     "output_type": "stream",
     "text": [
      "@stellargirl I loooooooovvvvvveee my Kindle2. Not that the DX is cool, but the 2 is fantastic in its own right.\t4\r\n",
      "Reading my kindle2...  Love it... Lee childs is good read.\t4\r\n",
      "Ok, first assesment of the #kindle2 ...it fucking rocks!!!\t4\r\n",
      "@kenburbary You'll love your Kindle2. I've had mine for a few months and never looked back. The new big one is huge! No need for remorse! :)\t4\r\n",
      "@mikefish  Fair enough. But i have the Kindle2 and I think it's perfect  :)\t4\r\n"
     ]
    }
   ],
   "source": [
    "! head -5 test.tsv"
   ]
  },
  {
   "cell_type": "code",
   "execution_count": null,
   "metadata": {},
   "outputs": [],
   "source": []
  }
 ],
 "metadata": {
  "kernelspec": {
   "display_name": "Python 3",
   "language": "python",
   "name": "python3"
  },
  "language_info": {
   "codemirror_mode": {
    "name": "ipython",
    "version": 3
   },
   "file_extension": ".py",
   "mimetype": "text/x-python",
   "name": "python",
   "nbconvert_exporter": "python",
   "pygments_lexer": "ipython3",
   "version": "3.7.7"
  }
 },
 "nbformat": 4,
 "nbformat_minor": 4
}
