{
 "cells": [
  {
   "cell_type": "markdown",
   "metadata": {
    "collapsed": true
   },
   "source": [
    "# Extractice QA :  SQuAD\n",
    "\n",
    "This is a simple notebook to download and store the [SQuAD v1.1](https://arxiv.org/abs/1606.05250) extractive QA dataset. \n",
    "\n",
    "We will take it from Huggingface datasets libray (<3) and turn it into one of the two formats that classy is able to parse (i.e. tsv and jsonl).\n",
    "\n",
    "After creating this dataset you can train your squad model by exectuing the following bash command:\n",
    "```bash\n",
    "classy train qa data/qa/squad-v1.1 -n my_firt_squad_run\n",
    "```"
   ]
  },
  {
   "cell_type": "code",
   "execution_count": null,
   "metadata": {},
   "outputs": [],
   "source": [
    "! pip install datasets"
   ]
  },
  {
   "cell_type": "code",
   "execution_count": null,
   "metadata": {},
   "outputs": [],
   "source": [
    "import json\n",
    "import os\n",
    "\n",
    "from datasets import load_dataset\n",
    "from tqdm.notebook import tqdm"
   ]
  },
  {
   "cell_type": "code",
   "execution_count": null,
   "metadata": {},
   "outputs": [],
   "source": [
    "# here we load the dataset dataset from \"datasets\"\n",
    "dataset = load_dataset(\"squad\")"
   ]
  },
  {
   "cell_type": "code",
   "execution_count": null,
   "metadata": {},
   "outputs": [],
   "source": [
    "dataset"
   ]
  },
  {
   "cell_type": "code",
   "execution_count": null,
   "metadata": {},
   "outputs": [],
   "source": [
    "dataset[\"train\"][0]"
   ]
  },
  {
   "cell_type": "code",
   "execution_count": null,
   "metadata": {},
   "outputs": [],
   "source": [
    "# let's create a repositiory that will contains the dataset splits\n",
    "import os\n",
    "dir_path = \"squad-v1.1\"\n",
    "os.mkdir(dir_path)"
   ]
  },
  {
   "cell_type": "code",
   "execution_count": null,
   "metadata": {},
   "outputs": [],
   "source": [
    "# if you want the output format to be a tab separated file, decomment  the second line\n",
    "output_format = \"jsonl\"\n",
    "# output_format = \"tsv\""
   ]
  },
  {
   "cell_type": "code",
   "execution_count": null,
   "metadata": {},
   "outputs": [],
   "source": [
    "from collections import Counter\n",
    "\n",
    "\n",
    "for k in ['train', 'validation']:\n",
    "\n",
    "    with open(f'{dir_path}/{k}.{output_format}', 'w') as f:\n",
    "\n",
    "        for sample in tqdm(dataset[k], desc=f\"Processing {k}\"):\n",
    "\n",
    "            squad_id = sample[\"id\"]\n",
    "            title = sample[\"title\"]\n",
    "            context = sample[\"context\"]\n",
    "            question = sample[\"question\"].lstrip()  # suggested by huggingface to remove left-side white spaces\n",
    "            \n",
    "            assert len(sample[\"answers\"][\"answer_start\"]) == len(sample[\"answers\"][\"text\"])\n",
    "            \n",
    "            # save original answer, and encode as start and end only first\n",
    "            full_answers = sample[\"answers\"]\n",
    "            answers_text = sample[\"answers\"][\"text\"][0]\n",
    "            answers_start = sample[\"answers\"][\"answer_start\"][0]\n",
    "            answers_end = answers_start + len(answers_text)\n",
    "            assert answers_text == context[answers_start: answers_end]\n",
    "            \n",
    "            # write\n",
    "            f.write(json.dumps(\n",
    "                dict(\n",
    "                        context=context,\n",
    "                        question=question,\n",
    "                        answer_start=answers_start,\n",
    "                        answer_end=answers_end,\n",
    "                        squad_id=squad_id,\n",
    "                        title=title,\n",
    "                        full_answers=full_answers,\n",
    "                    )\n",
    "            ) + \"\\n\")"
   ]
  },
  {
   "cell_type": "code",
   "execution_count": null,
   "metadata": {},
   "outputs": [],
   "source": [
    "! head -5 $dir_path/train.$output_format"
   ]
  },
  {
   "cell_type": "code",
   "execution_count": null,
   "metadata": {},
   "outputs": [],
   "source": [
    "! head -5 $dir_path/validation.$output_format"
   ]
  },
  {
   "cell_type": "code",
   "execution_count": null,
   "metadata": {},
   "outputs": [],
   "source": []
  }
 ],
 "metadata": {
  "kernelspec": {
   "display_name": "Python 3",
   "language": "python",
   "name": "python3"
  },
  "language_info": {
   "codemirror_mode": {
    "name": "ipython",
    "version": 3
   },
   "file_extension": ".py",
   "mimetype": "text/x-python",
   "name": "python",
   "nbconvert_exporter": "python",
   "pygments_lexer": "ipython3",
   "version": "3.7.10"
  }
 },
 "nbformat": 4,
 "nbformat_minor": 1
}
