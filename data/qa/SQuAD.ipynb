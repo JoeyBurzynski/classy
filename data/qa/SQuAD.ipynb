{
 "cells": [
  {
   "cell_type": "markdown",
   "metadata": {
    "collapsed": true
   },
   "source": [
    "# Extractice QA :  SQuAD\n",
    "\n",
    "This is a simple notebook to download and store the SQuAD v1.1 extractive qa dataset. We will take it from Huggingface datasets libray (<3) and turn it into one of the two formats that classy is able to parse (i.e. jsonl).\n",
    "\n",
    "After creating this dataset you can train the model by exectuing the following bash command\n",
    "```bash\n",
    "classy train qa data/qa/squad -n my_firt_squad_run\n",
    "```"
   ]
  },
  {
   "cell_type": "code",
   "execution_count": 1,
   "metadata": {},
   "outputs": [
    {
     "name": "stdout",
     "output_type": "stream",
     "text": [
      "Requirement already satisfied: datasets in /home/edobobo/miniconda3/envs/classy_client/lib/python3.8/site-packages (1.11.0)\n",
      "Requirement already satisfied: requests>=2.19.0 in /home/edobobo/miniconda3/envs/classy_client/lib/python3.8/site-packages (from datasets) (2.26.0)\n",
      "Requirement already satisfied: xxhash in /home/edobobo/miniconda3/envs/classy_client/lib/python3.8/site-packages (from datasets) (2.0.2)\n",
      "Requirement already satisfied: fsspec>=2021.05.0 in /home/edobobo/miniconda3/envs/classy_client/lib/python3.8/site-packages (from datasets) (2021.8.1)\n",
      "Requirement already satisfied: multiprocess in /home/edobobo/miniconda3/envs/classy_client/lib/python3.8/site-packages (from datasets) (0.70.12.2)\n",
      "Requirement already satisfied: tqdm>=4.42 in /home/edobobo/miniconda3/envs/classy_client/lib/python3.8/site-packages (from datasets) (4.62.2)\n",
      "Requirement already satisfied: dill in /home/edobobo/miniconda3/envs/classy_client/lib/python3.8/site-packages (from datasets) (0.3.4)\n",
      "Requirement already satisfied: pyarrow!=4.0.0,>=1.0.0 in /home/edobobo/miniconda3/envs/classy_client/lib/python3.8/site-packages (from datasets) (5.0.0)\n",
      "Requirement already satisfied: packaging in /home/edobobo/miniconda3/envs/classy_client/lib/python3.8/site-packages (from datasets) (21.0)\n",
      "Requirement already satisfied: huggingface-hub<0.1.0 in /home/edobobo/miniconda3/envs/classy_client/lib/python3.8/site-packages (from datasets) (0.0.12)\n",
      "Requirement already satisfied: numpy>=1.17 in /home/edobobo/miniconda3/envs/classy_client/lib/python3.8/site-packages (from datasets) (1.21.2)\n",
      "Requirement already satisfied: pandas in /home/edobobo/miniconda3/envs/classy_client/lib/python3.8/site-packages (from datasets) (1.3.2)\n",
      "Requirement already satisfied: typing-extensions in /home/edobobo/miniconda3/envs/classy_client/lib/python3.8/site-packages (from huggingface-hub<0.1.0->datasets) (3.10.0.2)\n",
      "Requirement already satisfied: filelock in /home/edobobo/miniconda3/envs/classy_client/lib/python3.8/site-packages (from huggingface-hub<0.1.0->datasets) (3.0.12)\n",
      "Requirement already satisfied: pyparsing>=2.0.2 in /home/edobobo/miniconda3/envs/classy_client/lib/python3.8/site-packages (from packaging->datasets) (2.4.7)\n",
      "Requirement already satisfied: urllib3<1.27,>=1.21.1 in /home/edobobo/miniconda3/envs/classy_client/lib/python3.8/site-packages (from requests>=2.19.0->datasets) (1.26.6)\n",
      "Requirement already satisfied: idna<4,>=2.5 in /home/edobobo/miniconda3/envs/classy_client/lib/python3.8/site-packages (from requests>=2.19.0->datasets) (3.2)\n",
      "Requirement already satisfied: certifi>=2017.4.17 in /home/edobobo/miniconda3/envs/classy_client/lib/python3.8/site-packages (from requests>=2.19.0->datasets) (2021.5.30)\n",
      "Requirement already satisfied: charset-normalizer~=2.0.0 in /home/edobobo/miniconda3/envs/classy_client/lib/python3.8/site-packages (from requests>=2.19.0->datasets) (2.0.4)\n",
      "Requirement already satisfied: python-dateutil>=2.7.3 in /home/edobobo/miniconda3/envs/classy_client/lib/python3.8/site-packages (from pandas->datasets) (2.8.2)\n",
      "Requirement already satisfied: pytz>=2017.3 in /home/edobobo/miniconda3/envs/classy_client/lib/python3.8/site-packages (from pandas->datasets) (2021.1)\n",
      "Requirement already satisfied: six>=1.5 in /home/edobobo/miniconda3/envs/classy_client/lib/python3.8/site-packages (from python-dateutil>=2.7.3->pandas->datasets) (1.16.0)\n"
     ]
    }
   ],
   "source": [
    "! pip install datasets"
   ]
  },
  {
   "cell_type": "code",
   "execution_count": 2,
   "metadata": {},
   "outputs": [],
   "source": [
    "import json\n",
    "import os\n",
    "\n",
    "from datasets import load_dataset\n",
    "from tqdm.notebook import tqdm"
   ]
  },
  {
   "cell_type": "code",
   "execution_count": 3,
   "metadata": {},
   "outputs": [
    {
     "name": "stderr",
     "output_type": "stream",
     "text": [
      "Reusing dataset squad (/home/edobobo/.cache/huggingface/datasets/squad/plain_text/1.0.0/d6ec3ceb99ca480ce37cdd35555d6cb2511d223b9150cce08a837ef62ffea453)\n"
     ]
    }
   ],
   "source": [
    "# here we load the dataset dataset from \"datasets\"\n",
    "dataset = load_dataset(\"squad\")"
   ]
  },
  {
   "cell_type": "code",
   "execution_count": 4,
   "metadata": {},
   "outputs": [
    {
     "data": {
      "text/plain": [
       "DatasetDict({\n",
       "    train: Dataset({\n",
       "        features: ['id', 'title', 'context', 'question', 'answers'],\n",
       "        num_rows: 87599\n",
       "    })\n",
       "    validation: Dataset({\n",
       "        features: ['id', 'title', 'context', 'question', 'answers'],\n",
       "        num_rows: 10570\n",
       "    })\n",
       "})"
      ]
     },
     "execution_count": 4,
     "metadata": {},
     "output_type": "execute_result"
    }
   ],
   "source": [
    "dataset"
   ]
  },
  {
   "cell_type": "code",
   "execution_count": 5,
   "metadata": {},
   "outputs": [
    {
     "data": {
      "text/plain": [
       "{'id': '5733be284776f41900661182',\n",
       " 'title': 'University_of_Notre_Dame',\n",
       " 'context': 'Architecturally, the school has a Catholic character. Atop the Main Building\\'s gold dome is a golden statue of the Virgin Mary. Immediately in front of the Main Building and facing it, is a copper statue of Christ with arms upraised with the legend \"Venite Ad Me Omnes\". Next to the Main Building is the Basilica of the Sacred Heart. Immediately behind the basilica is the Grotto, a Marian place of prayer and reflection. It is a replica of the grotto at Lourdes, France where the Virgin Mary reputedly appeared to Saint Bernadette Soubirous in 1858. At the end of the main drive (and in a direct line that connects through 3 statues and the Gold Dome), is a simple, modern stone statue of Mary.',\n",
       " 'question': 'To whom did the Virgin Mary allegedly appear in 1858 in Lourdes France?',\n",
       " 'answers': {'text': ['Saint Bernadette Soubirous'], 'answer_start': [515]}}"
      ]
     },
     "execution_count": 5,
     "metadata": {},
     "output_type": "execute_result"
    }
   ],
   "source": [
    "dataset[\"train\"][0]"
   ]
  },
  {
   "cell_type": "code",
   "execution_count": 6,
   "metadata": {},
   "outputs": [
    {
     "ename": "FileExistsError",
     "evalue": "[Errno 17] File exists: 'squad-v1.1'",
     "output_type": "error",
     "traceback": [
      "\u001b[0;31m---------------------------------------------------------------------------\u001b[0m",
      "\u001b[0;31mFileExistsError\u001b[0m                           Traceback (most recent call last)",
      "\u001b[0;32m/tmp/ipykernel_625342/680344747.py\u001b[0m in \u001b[0;36m<module>\u001b[0;34m\u001b[0m\n\u001b[1;32m      2\u001b[0m \u001b[0;32mimport\u001b[0m \u001b[0mos\u001b[0m\u001b[0;34m\u001b[0m\u001b[0;34m\u001b[0m\u001b[0m\n\u001b[1;32m      3\u001b[0m \u001b[0mdir_path\u001b[0m \u001b[0;34m=\u001b[0m \u001b[0;34m\"squad-v1.1\"\u001b[0m\u001b[0;34m\u001b[0m\u001b[0;34m\u001b[0m\u001b[0m\n\u001b[0;32m----> 4\u001b[0;31m \u001b[0mos\u001b[0m\u001b[0;34m.\u001b[0m\u001b[0mmkdir\u001b[0m\u001b[0;34m(\u001b[0m\u001b[0mdir_path\u001b[0m\u001b[0;34m)\u001b[0m\u001b[0;34m\u001b[0m\u001b[0;34m\u001b[0m\u001b[0m\n\u001b[0m",
      "\u001b[0;31mFileExistsError\u001b[0m: [Errno 17] File exists: 'squad-v1.1'"
     ]
    }
   ],
   "source": [
    "# let's create a repositiory that will contains the dataset splits\n",
    "import os\n",
    "dir_path = \"squad-v1.1\"\n",
    "os.mkdir(dir_path)"
   ]
  },
  {
   "cell_type": "code",
   "execution_count": 7,
   "metadata": {},
   "outputs": [],
   "source": [
    "# if you want the output format to be tab separated decomment the second line\n",
    "output_format = \"jsonl\"\n",
    "# output_format = \"tsv\""
   ]
  },
  {
   "cell_type": "code",
   "execution_count": 11,
   "metadata": {},
   "outputs": [
    {
     "data": {
      "application/vnd.jupyter.widget-view+json": {
       "model_id": "f089d1cc91604625ae6ceb0e5e3c9d3c",
       "version_major": 2,
       "version_minor": 0
      },
      "text/plain": [
       "Processing train:   0%|          | 0/87599 [00:00<?, ?it/s]"
      ]
     },
     "metadata": {},
     "output_type": "display_data"
    },
    {
     "data": {
      "application/vnd.jupyter.widget-view+json": {
       "model_id": "541700cde94d4e6fa4758f5225639abb",
       "version_major": 2,
       "version_minor": 0
      },
      "text/plain": [
       "Processing validation:   0%|          | 0/10570 [00:00<?, ?it/s]"
      ]
     },
     "metadata": {},
     "output_type": "display_data"
    }
   ],
   "source": [
    "from collections import Counter\n",
    "\n",
    "\n",
    "for k in ['train', 'validation']:\n",
    "\n",
    "    with open(f'{dir_path}/{k}.{output_format}', 'w') as f:\n",
    "\n",
    "        for sample in tqdm(dataset[k], desc=f\"Processing {k}\"):\n",
    "\n",
    "            squad_id = sample[\"id\"]\n",
    "            title = sample[\"title\"]\n",
    "            context = sample[\"context\"]\n",
    "            question = sample[\"question\"].lstrip()  # suggested by huggingface to remove left-side white spaces\n",
    "            \n",
    "            assert len(sample[\"answers\"][\"answer_start\"]) == len(sample[\"answers\"][\"text\"])\n",
    "            \n",
    "            # save original answer, and encode as start and end only first\n",
    "            full_answers = sample[\"answers\"]\n",
    "            answers_text = sample[\"answers\"][\"text\"][0]\n",
    "            answers_start = sample[\"answers\"][\"answer_start\"][0]\n",
    "            answers_end = answers_start + len(answers_text)\n",
    "            assert answers_text == context[answers_start: answers_end]\n",
    "            \n",
    "            # write\n",
    "            f.write(json.dumps(\n",
    "                dict(\n",
    "                        context=context,\n",
    "                        question=question,\n",
    "                        answer_start=answers_start,\n",
    "                        answer_end=answers_end,\n",
    "                        squad_id=squad_id,\n",
    "                        title=title,\n",
    "                        full_answers=full_answers,\n",
    "                    )\n",
    "            ) + \"\\n\")"
   ]
  },
  {
   "cell_type": "code",
   "execution_count": 12,
   "metadata": {},
   "outputs": [
    {
     "name": "stdout",
     "output_type": "stream",
     "text": [
      "{\"context\": \"Architecturally, the school has a Catholic character. Atop the Main Building's gold dome is a golden statue of the Virgin Mary. Immediately in front of the Main Building and facing it, is a copper statue of Christ with arms upraised with the legend \\\"Venite Ad Me Omnes\\\". Next to the Main Building is the Basilica of the Sacred Heart. Immediately behind the basilica is the Grotto, a Marian place of prayer and reflection. It is a replica of the grotto at Lourdes, France where the Virgin Mary reputedly appeared to Saint Bernadette Soubirous in 1858. At the end of the main drive (and in a direct line that connects through 3 statues and the Gold Dome), is a simple, modern stone statue of Mary.\", \"question\": \"To whom did the Virgin Mary allegedly appear in 1858 in Lourdes France?\", \"answer_start\": 515, \"answer_end\": 541, \"squad_id\": \"5733be284776f41900661182\", \"title\": \"University_of_Notre_Dame\", \"full_answers\": {\"text\": [\"Saint Bernadette Soubirous\"], \"answer_start\": [515]}}\r\n",
      "{\"context\": \"Architecturally, the school has a Catholic character. Atop the Main Building's gold dome is a golden statue of the Virgin Mary. Immediately in front of the Main Building and facing it, is a copper statue of Christ with arms upraised with the legend \\\"Venite Ad Me Omnes\\\". Next to the Main Building is the Basilica of the Sacred Heart. Immediately behind the basilica is the Grotto, a Marian place of prayer and reflection. It is a replica of the grotto at Lourdes, France where the Virgin Mary reputedly appeared to Saint Bernadette Soubirous in 1858. At the end of the main drive (and in a direct line that connects through 3 statues and the Gold Dome), is a simple, modern stone statue of Mary.\", \"question\": \"What is in front of the Notre Dame Main Building?\", \"answer_start\": 188, \"answer_end\": 213, \"squad_id\": \"5733be284776f4190066117f\", \"title\": \"University_of_Notre_Dame\", \"full_answers\": {\"text\": [\"a copper statue of Christ\"], \"answer_start\": [188]}}\r\n",
      "{\"context\": \"Architecturally, the school has a Catholic character. Atop the Main Building's gold dome is a golden statue of the Virgin Mary. Immediately in front of the Main Building and facing it, is a copper statue of Christ with arms upraised with the legend \\\"Venite Ad Me Omnes\\\". Next to the Main Building is the Basilica of the Sacred Heart. Immediately behind the basilica is the Grotto, a Marian place of prayer and reflection. It is a replica of the grotto at Lourdes, France where the Virgin Mary reputedly appeared to Saint Bernadette Soubirous in 1858. At the end of the main drive (and in a direct line that connects through 3 statues and the Gold Dome), is a simple, modern stone statue of Mary.\", \"question\": \"The Basilica of the Sacred heart at Notre Dame is beside to which structure?\", \"answer_start\": 279, \"answer_end\": 296, \"squad_id\": \"5733be284776f41900661180\", \"title\": \"University_of_Notre_Dame\", \"full_answers\": {\"text\": [\"the Main Building\"], \"answer_start\": [279]}}\r\n",
      "{\"context\": \"Architecturally, the school has a Catholic character. Atop the Main Building's gold dome is a golden statue of the Virgin Mary. Immediately in front of the Main Building and facing it, is a copper statue of Christ with arms upraised with the legend \\\"Venite Ad Me Omnes\\\". Next to the Main Building is the Basilica of the Sacred Heart. Immediately behind the basilica is the Grotto, a Marian place of prayer and reflection. It is a replica of the grotto at Lourdes, France where the Virgin Mary reputedly appeared to Saint Bernadette Soubirous in 1858. At the end of the main drive (and in a direct line that connects through 3 statues and the Gold Dome), is a simple, modern stone statue of Mary.\", \"question\": \"What is the Grotto at Notre Dame?\", \"answer_start\": 381, \"answer_end\": 420, \"squad_id\": \"5733be284776f41900661181\", \"title\": \"University_of_Notre_Dame\", \"full_answers\": {\"text\": [\"a Marian place of prayer and reflection\"], \"answer_start\": [381]}}\r\n",
      "{\"context\": \"Architecturally, the school has a Catholic character. Atop the Main Building's gold dome is a golden statue of the Virgin Mary. Immediately in front of the Main Building and facing it, is a copper statue of Christ with arms upraised with the legend \\\"Venite Ad Me Omnes\\\". Next to the Main Building is the Basilica of the Sacred Heart. Immediately behind the basilica is the Grotto, a Marian place of prayer and reflection. It is a replica of the grotto at Lourdes, France where the Virgin Mary reputedly appeared to Saint Bernadette Soubirous in 1858. At the end of the main drive (and in a direct line that connects through 3 statues and the Gold Dome), is a simple, modern stone statue of Mary.\", \"question\": \"What sits on top of the Main Building at Notre Dame?\", \"answer_start\": 92, \"answer_end\": 126, \"squad_id\": \"5733be284776f4190066117e\", \"title\": \"University_of_Notre_Dame\", \"full_answers\": {\"text\": [\"a golden statue of the Virgin Mary\"], \"answer_start\": [92]}}\r\n"
     ]
    }
   ],
   "source": [
    "! head -5 $dir_path/train.$output_format"
   ]
  },
  {
   "cell_type": "code",
   "execution_count": 13,
   "metadata": {},
   "outputs": [
    {
     "name": "stdout",
     "output_type": "stream",
     "text": [
      "{\"context\": \"Super Bowl 50 was an American football game to determine the champion of the National Football League (NFL) for the 2015 season. The American Football Conference (AFC) champion Denver Broncos defeated the National Football Conference (NFC) champion Carolina Panthers 24\\u201310 to earn their third Super Bowl title. The game was played on February 7, 2016, at Levi's Stadium in the San Francisco Bay Area at Santa Clara, California. As this was the 50th Super Bowl, the league emphasized the \\\"golden anniversary\\\" with various gold-themed initiatives, as well as temporarily suspending the tradition of naming each Super Bowl game with Roman numerals (under which the game would have been known as \\\"Super Bowl L\\\"), so that the logo could prominently feature the Arabic numerals 50.\", \"question\": \"Which NFL team represented the AFC at Super Bowl 50?\", \"answer_start\": 177, \"answer_end\": 191, \"squad_id\": \"56be4db0acb8001400a502ec\", \"title\": \"Super_Bowl_50\", \"full_answers\": {\"text\": [\"Denver Broncos\", \"Denver Broncos\", \"Denver Broncos\"], \"answer_start\": [177, 177, 177]}}\r\n",
      "{\"context\": \"Super Bowl 50 was an American football game to determine the champion of the National Football League (NFL) for the 2015 season. The American Football Conference (AFC) champion Denver Broncos defeated the National Football Conference (NFC) champion Carolina Panthers 24\\u201310 to earn their third Super Bowl title. The game was played on February 7, 2016, at Levi's Stadium in the San Francisco Bay Area at Santa Clara, California. As this was the 50th Super Bowl, the league emphasized the \\\"golden anniversary\\\" with various gold-themed initiatives, as well as temporarily suspending the tradition of naming each Super Bowl game with Roman numerals (under which the game would have been known as \\\"Super Bowl L\\\"), so that the logo could prominently feature the Arabic numerals 50.\", \"question\": \"Which NFL team represented the NFC at Super Bowl 50?\", \"answer_start\": 249, \"answer_end\": 266, \"squad_id\": \"56be4db0acb8001400a502ed\", \"title\": \"Super_Bowl_50\", \"full_answers\": {\"text\": [\"Carolina Panthers\", \"Carolina Panthers\", \"Carolina Panthers\"], \"answer_start\": [249, 249, 249]}}\r\n",
      "{\"context\": \"Super Bowl 50 was an American football game to determine the champion of the National Football League (NFL) for the 2015 season. The American Football Conference (AFC) champion Denver Broncos defeated the National Football Conference (NFC) champion Carolina Panthers 24\\u201310 to earn their third Super Bowl title. The game was played on February 7, 2016, at Levi's Stadium in the San Francisco Bay Area at Santa Clara, California. As this was the 50th Super Bowl, the league emphasized the \\\"golden anniversary\\\" with various gold-themed initiatives, as well as temporarily suspending the tradition of naming each Super Bowl game with Roman numerals (under which the game would have been known as \\\"Super Bowl L\\\"), so that the logo could prominently feature the Arabic numerals 50.\", \"question\": \"Where did Super Bowl 50 take place?\", \"answer_start\": 403, \"answer_end\": 426, \"squad_id\": \"56be4db0acb8001400a502ee\", \"title\": \"Super_Bowl_50\", \"full_answers\": {\"text\": [\"Santa Clara, California\", \"Levi's Stadium\", \"Levi's Stadium in the San Francisco Bay Area at Santa Clara, California.\"], \"answer_start\": [403, 355, 355]}}\r\n",
      "{\"context\": \"Super Bowl 50 was an American football game to determine the champion of the National Football League (NFL) for the 2015 season. The American Football Conference (AFC) champion Denver Broncos defeated the National Football Conference (NFC) champion Carolina Panthers 24\\u201310 to earn their third Super Bowl title. The game was played on February 7, 2016, at Levi's Stadium in the San Francisco Bay Area at Santa Clara, California. As this was the 50th Super Bowl, the league emphasized the \\\"golden anniversary\\\" with various gold-themed initiatives, as well as temporarily suspending the tradition of naming each Super Bowl game with Roman numerals (under which the game would have been known as \\\"Super Bowl L\\\"), so that the logo could prominently feature the Arabic numerals 50.\", \"question\": \"Which NFL team won Super Bowl 50?\", \"answer_start\": 177, \"answer_end\": 191, \"squad_id\": \"56be4db0acb8001400a502ef\", \"title\": \"Super_Bowl_50\", \"full_answers\": {\"text\": [\"Denver Broncos\", \"Denver Broncos\", \"Denver Broncos\"], \"answer_start\": [177, 177, 177]}}\r\n",
      "{\"context\": \"Super Bowl 50 was an American football game to determine the champion of the National Football League (NFL) for the 2015 season. The American Football Conference (AFC) champion Denver Broncos defeated the National Football Conference (NFC) champion Carolina Panthers 24\\u201310 to earn their third Super Bowl title. The game was played on February 7, 2016, at Levi's Stadium in the San Francisco Bay Area at Santa Clara, California. As this was the 50th Super Bowl, the league emphasized the \\\"golden anniversary\\\" with various gold-themed initiatives, as well as temporarily suspending the tradition of naming each Super Bowl game with Roman numerals (under which the game would have been known as \\\"Super Bowl L\\\"), so that the logo could prominently feature the Arabic numerals 50.\", \"question\": \"What color was used to emphasize the 50th anniversary of the Super Bowl?\", \"answer_start\": 488, \"answer_end\": 492, \"squad_id\": \"56be4db0acb8001400a502f0\", \"title\": \"Super_Bowl_50\", \"full_answers\": {\"text\": [\"gold\", \"gold\", \"gold\"], \"answer_start\": [488, 488, 521]}}\r\n"
     ]
    }
   ],
   "source": [
    "! head -5 $dir_path/validation.$output_format"
   ]
  },
  {
   "cell_type": "code",
   "execution_count": null,
   "metadata": {},
   "outputs": [],
   "source": []
  }
 ],
 "metadata": {
  "kernelspec": {
   "display_name": "Python 3 (ipykernel)",
   "language": "python",
   "name": "python3"
  },
  "language_info": {
   "codemirror_mode": {
    "name": "ipython",
    "version": 3
   },
   "file_extension": ".py",
   "mimetype": "text/x-python",
   "name": "python",
   "nbconvert_exporter": "python",
   "pygments_lexer": "ipython3",
   "version": "3.8.11"
  }
 },
 "nbformat": 4,
 "nbformat_minor": 1
}
