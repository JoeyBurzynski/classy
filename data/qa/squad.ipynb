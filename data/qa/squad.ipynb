{
 "cells": [
  {
   "cell_type": "markdown",
   "metadata": {
    "collapsed": true
   },
   "source": [
    "# Extractice QA :  SQuAD\n",
    "\n",
    "This is a simple notebook to download and store the SQuAD extractive qa dataset. We will take it from Huggingface datasets libray (<3) and turn it into one of the two formats that classy is able to parse (i.e. jsonl or tsv).\n",
    "\n",
    "After creating this dataset you can train the model by exectuing the following bash command\n",
    "```bash\n",
    "classy train qa data/qa/squad -n my_firt_squad_run\n",
    "```"
   ]
  },
  {
   "cell_type": "code",
   "execution_count": 19,
   "metadata": {},
   "outputs": [
    {
     "name": "stdout",
     "output_type": "stream",
     "text": [
      "Requirement already satisfied: datasets in /home/edobobo/miniconda3/envs/classy_client/lib/python3.8/site-packages (1.11.0)\r\n",
      "Requirement already satisfied: tqdm>=4.42 in /home/edobobo/miniconda3/envs/classy_client/lib/python3.8/site-packages (from datasets) (4.62.2)\r\n",
      "Requirement already satisfied: xxhash in /home/edobobo/miniconda3/envs/classy_client/lib/python3.8/site-packages (from datasets) (2.0.2)\r\n",
      "Requirement already satisfied: huggingface-hub<0.1.0 in /home/edobobo/miniconda3/envs/classy_client/lib/python3.8/site-packages (from datasets) (0.0.12)\r\n",
      "Requirement already satisfied: numpy>=1.17 in /home/edobobo/miniconda3/envs/classy_client/lib/python3.8/site-packages (from datasets) (1.21.2)\r\n",
      "Requirement already satisfied: pyarrow!=4.0.0,>=1.0.0 in /home/edobobo/miniconda3/envs/classy_client/lib/python3.8/site-packages (from datasets) (5.0.0)\r\n",
      "Requirement already satisfied: pandas in /home/edobobo/miniconda3/envs/classy_client/lib/python3.8/site-packages (from datasets) (1.3.2)\r\n",
      "Requirement already satisfied: packaging in /home/edobobo/miniconda3/envs/classy_client/lib/python3.8/site-packages (from datasets) (21.0)\r\n",
      "Requirement already satisfied: multiprocess in /home/edobobo/miniconda3/envs/classy_client/lib/python3.8/site-packages (from datasets) (0.70.12.2)\r\n",
      "Requirement already satisfied: dill in /home/edobobo/miniconda3/envs/classy_client/lib/python3.8/site-packages (from datasets) (0.3.4)\r\n",
      "Requirement already satisfied: requests>=2.19.0 in /home/edobobo/miniconda3/envs/classy_client/lib/python3.8/site-packages (from datasets) (2.26.0)\r\n",
      "Requirement already satisfied: fsspec>=2021.05.0 in /home/edobobo/miniconda3/envs/classy_client/lib/python3.8/site-packages (from datasets) (2021.8.1)\r\n",
      "Requirement already satisfied: filelock in /home/edobobo/miniconda3/envs/classy_client/lib/python3.8/site-packages (from huggingface-hub<0.1.0->datasets) (3.0.12)\r\n",
      "Requirement already satisfied: typing-extensions in /home/edobobo/miniconda3/envs/classy_client/lib/python3.8/site-packages (from huggingface-hub<0.1.0->datasets) (3.10.0.2)\r\n",
      "Requirement already satisfied: pyparsing>=2.0.2 in /home/edobobo/miniconda3/envs/classy_client/lib/python3.8/site-packages (from packaging->datasets) (2.4.7)\r\n",
      "Requirement already satisfied: idna<4,>=2.5 in /home/edobobo/miniconda3/envs/classy_client/lib/python3.8/site-packages (from requests>=2.19.0->datasets) (3.2)\r\n",
      "Requirement already satisfied: charset-normalizer~=2.0.0 in /home/edobobo/miniconda3/envs/classy_client/lib/python3.8/site-packages (from requests>=2.19.0->datasets) (2.0.4)\r\n",
      "Requirement already satisfied: urllib3<1.27,>=1.21.1 in /home/edobobo/miniconda3/envs/classy_client/lib/python3.8/site-packages (from requests>=2.19.0->datasets) (1.26.6)\r\n",
      "Requirement already satisfied: certifi>=2017.4.17 in /home/edobobo/miniconda3/envs/classy_client/lib/python3.8/site-packages (from requests>=2.19.0->datasets) (2021.5.30)\r\n",
      "Requirement already satisfied: python-dateutil>=2.7.3 in /home/edobobo/miniconda3/envs/classy_client/lib/python3.8/site-packages (from pandas->datasets) (2.8.2)\r\n",
      "Requirement already satisfied: pytz>=2017.3 in /home/edobobo/miniconda3/envs/classy_client/lib/python3.8/site-packages (from pandas->datasets) (2021.1)\r\n",
      "Requirement already satisfied: six>=1.5 in /home/edobobo/miniconda3/envs/classy_client/lib/python3.8/site-packages (from python-dateutil>=2.7.3->pandas->datasets) (1.16.0)\r\n"
     ]
    }
   ],
   "source": [
    "! pip install datasets"
   ]
  },
  {
   "cell_type": "code",
   "execution_count": 20,
   "metadata": {},
   "outputs": [],
   "source": [
    "from datasets import load_dataset\n",
    "import os\n",
    "from tqdm.notebook import tqdm"
   ]
  },
  {
   "cell_type": "code",
   "execution_count": 21,
   "metadata": {},
   "outputs": [
    {
     "name": "stderr",
     "output_type": "stream",
     "text": [
      "Reusing dataset squad (/home/edobobo/.cache/huggingface/datasets/squad/plain_text/1.0.0/d6ec3ceb99ca480ce37cdd35555d6cb2511d223b9150cce08a837ef62ffea453)\n"
     ]
    }
   ],
   "source": [
    "# here we load the dataset dataset from \"datasets\"\n",
    "dataset = load_dataset(\"squad\")"
   ]
  },
  {
   "cell_type": "code",
   "execution_count": 22,
   "metadata": {},
   "outputs": [
    {
     "ename": "FileExistsError",
     "evalue": "[Errno 17] File exists: 'squad'",
     "output_type": "error",
     "traceback": [
      "\u001B[0;31m---------------------------------------------------------------------------\u001B[0m",
      "\u001B[0;31mFileExistsError\u001B[0m                           Traceback (most recent call last)",
      "\u001B[0;32m/tmp/ipykernel_178261/1045687275.py\u001B[0m in \u001B[0;36m<module>\u001B[0;34m\u001B[0m\n\u001B[1;32m      2\u001B[0m \u001B[0;32mimport\u001B[0m \u001B[0mos\u001B[0m\u001B[0;34m\u001B[0m\u001B[0;34m\u001B[0m\u001B[0m\n\u001B[1;32m      3\u001B[0m \u001B[0mdir_path\u001B[0m \u001B[0;34m=\u001B[0m \u001B[0;34m\"squad\"\u001B[0m\u001B[0;34m\u001B[0m\u001B[0;34m\u001B[0m\u001B[0m\n\u001B[0;32m----> 4\u001B[0;31m \u001B[0mos\u001B[0m\u001B[0;34m.\u001B[0m\u001B[0mmkdir\u001B[0m\u001B[0;34m(\u001B[0m\u001B[0mdir_path\u001B[0m\u001B[0;34m)\u001B[0m\u001B[0;34m\u001B[0m\u001B[0;34m\u001B[0m\u001B[0m\n\u001B[0m\u001B[1;32m      5\u001B[0m \u001B[0mget_ipython\u001B[0m\u001B[0;34m(\u001B[0m\u001B[0;34m)\u001B[0m\u001B[0;34m.\u001B[0m\u001B[0msystem\u001B[0m\u001B[0;34m(\u001B[0m\u001B[0;34m' ls'\u001B[0m\u001B[0;34m)\u001B[0m\u001B[0;34m\u001B[0m\u001B[0;34m\u001B[0m\u001B[0m\n\u001B[1;32m      6\u001B[0m \u001B[0;34m\u001B[0m\u001B[0m\n",
      "\u001B[0;31mFileExistsError\u001B[0m: [Errno 17] File exists: 'squad'"
     ]
    }
   ],
   "source": [
    "# let's create a repositiory that will contains the dataset splits\n",
    "import os\n",
    "dir_path = \"squad\"\n",
    "os.mkdir(dir_path)\n",
    "! ls"
   ]
  },
  {
   "cell_type": "code",
   "execution_count": null,
   "metadata": {},
   "outputs": [],
   "source": [
    "# if you want the output format to be tab separated decomment the second line\n",
    "output_format = \"jsonl\"\n",
    "# output_format = \"tsv\"\n",
    "\n",
    "if output_format == \"jsonl\":\n",
    "    import json"
   ]
  },
  {
   "cell_type": "code",
   "execution_count": 32,
   "metadata": {},
   "outputs": [
    {
     "data": {
      "text/plain": "  0%|          | 0/87599 [00:00<?, ?it/s]",
      "application/vnd.jupyter.widget-view+json": {
       "version_major": 2,
       "version_minor": 0,
       "model_id": "7950785f3fbf4be5a590779c8a66b2a2"
      }
     },
     "metadata": {},
     "output_type": "display_data"
    },
    {
     "data": {
      "text/plain": "  0%|          | 0/10570 [00:00<?, ?it/s]",
      "application/vnd.jupyter.widget-view+json": {
       "version_major": 2,
       "version_minor": 0,
       "model_id": "1841e558e93446a6b2cdafd5293739e8"
      }
     },
     "metadata": {},
     "output_type": "display_data"
    }
   ],
   "source": [
    "from collections import Counter\n",
    "\n",
    "\n",
    "for k in ['train', 'validation']:\n",
    "\n",
    "    with open(f'{dir_path}/{k}.{output_format}', 'w') as f:\n",
    "\n",
    "        for instance in tqdm(dataset[k]):\n",
    "\n",
    "            title = instance[\"title\"].replace(\"_\", \" \")\n",
    "            context = instance[\"context\"]\n",
    "            title_add = f\"{title.strip('.')}. \"\n",
    "            context = title_add + context\n",
    "\n",
    "            question = instance[\"question\"]\n",
    "            answers_start = instance[\"answers\"][\"answer_start\"]\n",
    "            answers_text = instance[\"answers\"][\"text\"]\n",
    "\n",
    "            # we select the most voted answer from the annotators\n",
    "            answer_text = max(Counter(answers_text).items(), key=lambda x: x[1])[0]\n",
    "            answer_start = answers_start[answers_text.index(answer_text)] + len(title_add)\n",
    "            answer_end = answer_start + len(answer_text)\n",
    "\n",
    "            if output_format == \"jsonl\":\n",
    "                json_dict = dict(\n",
    "                    context=context,\n",
    "                    question=question,\n",
    "                    answer_start=answer_start,\n",
    "                    answer_end=answer_end\n",
    "                )\n",
    "                dump_line = json.dumps(json_dict)\n",
    "            else:\n",
    "                dump_line = f\"{context}\\t{question}\\t{answer_start}\\t{answer_end}\"\n",
    "\n",
    "            f.write(dump_line)\n",
    "            f.write(\"\\n\")"
   ]
  },
  {
   "cell_type": "code",
   "execution_count": 33,
   "metadata": {},
   "outputs": [
    {
     "name": "stdout",
     "output_type": "stream",
     "text": [
      "{\"context\": \"University of Notre Dame. Architecturally, the school has a Catholic character. Atop the Main Building's gold dome is a golden statue of the Virgin Mary. Immediately in front of the Main Building and facing it, is a copper statue of Christ with arms upraised with the legend \\\"Venite Ad Me Omnes\\\". Next to the Main Building is the Basilica of the Sacred Heart. Immediately behind the basilica is the Grotto, a Marian place of prayer and reflection. It is a replica of the grotto at Lourdes, France where the Virgin Mary reputedly appeared to Saint Bernadette Soubirous in 1858. At the end of the main drive (and in a direct line that connects through 3 statues and the Gold Dome), is a simple, modern stone statue of Mary.\", \"question\": \"To whom did the Virgin Mary allegedly appear in 1858 in Lourdes France?\", \"answer_start\": 541, \"answer_end\": 567}\r\n",
      "{\"context\": \"University of Notre Dame. Architecturally, the school has a Catholic character. Atop the Main Building's gold dome is a golden statue of the Virgin Mary. Immediately in front of the Main Building and facing it, is a copper statue of Christ with arms upraised with the legend \\\"Venite Ad Me Omnes\\\". Next to the Main Building is the Basilica of the Sacred Heart. Immediately behind the basilica is the Grotto, a Marian place of prayer and reflection. It is a replica of the grotto at Lourdes, France where the Virgin Mary reputedly appeared to Saint Bernadette Soubirous in 1858. At the end of the main drive (and in a direct line that connects through 3 statues and the Gold Dome), is a simple, modern stone statue of Mary.\", \"question\": \"What is in front of the Notre Dame Main Building?\", \"answer_start\": 214, \"answer_end\": 239}\r\n",
      "{\"context\": \"University of Notre Dame. Architecturally, the school has a Catholic character. Atop the Main Building's gold dome is a golden statue of the Virgin Mary. Immediately in front of the Main Building and facing it, is a copper statue of Christ with arms upraised with the legend \\\"Venite Ad Me Omnes\\\". Next to the Main Building is the Basilica of the Sacred Heart. Immediately behind the basilica is the Grotto, a Marian place of prayer and reflection. It is a replica of the grotto at Lourdes, France where the Virgin Mary reputedly appeared to Saint Bernadette Soubirous in 1858. At the end of the main drive (and in a direct line that connects through 3 statues and the Gold Dome), is a simple, modern stone statue of Mary.\", \"question\": \"The Basilica of the Sacred heart at Notre Dame is beside to which structure?\", \"answer_start\": 305, \"answer_end\": 322}\r\n",
      "{\"context\": \"University of Notre Dame. Architecturally, the school has a Catholic character. Atop the Main Building's gold dome is a golden statue of the Virgin Mary. Immediately in front of the Main Building and facing it, is a copper statue of Christ with arms upraised with the legend \\\"Venite Ad Me Omnes\\\". Next to the Main Building is the Basilica of the Sacred Heart. Immediately behind the basilica is the Grotto, a Marian place of prayer and reflection. It is a replica of the grotto at Lourdes, France where the Virgin Mary reputedly appeared to Saint Bernadette Soubirous in 1858. At the end of the main drive (and in a direct line that connects through 3 statues and the Gold Dome), is a simple, modern stone statue of Mary.\", \"question\": \"What is the Grotto at Notre Dame?\", \"answer_start\": 407, \"answer_end\": 446}\r\n",
      "{\"context\": \"University of Notre Dame. Architecturally, the school has a Catholic character. Atop the Main Building's gold dome is a golden statue of the Virgin Mary. Immediately in front of the Main Building and facing it, is a copper statue of Christ with arms upraised with the legend \\\"Venite Ad Me Omnes\\\". Next to the Main Building is the Basilica of the Sacred Heart. Immediately behind the basilica is the Grotto, a Marian place of prayer and reflection. It is a replica of the grotto at Lourdes, France where the Virgin Mary reputedly appeared to Saint Bernadette Soubirous in 1858. At the end of the main drive (and in a direct line that connects through 3 statues and the Gold Dome), is a simple, modern stone statue of Mary.\", \"question\": \"What sits on top of the Main Building at Notre Dame?\", \"answer_start\": 118, \"answer_end\": 152}\r\n"
     ]
    }
   ],
   "source": [
    "! head -5 $dir_path/train.$output_format"
   ]
  },
  {
   "cell_type": "code",
   "execution_count": 34,
   "metadata": {},
   "outputs": [
    {
     "name": "stdout",
     "output_type": "stream",
     "text": [
      "{\"context\": \"Super Bowl 50. Super Bowl 50 was an American football game to determine the champion of the National Football League (NFL) for the 2015 season. The American Football Conference (AFC) champion Denver Broncos defeated the National Football Conference (NFC) champion Carolina Panthers 24\\u201310 to earn their third Super Bowl title. The game was played on February 7, 2016, at Levi's Stadium in the San Francisco Bay Area at Santa Clara, California. As this was the 50th Super Bowl, the league emphasized the \\\"golden anniversary\\\" with various gold-themed initiatives, as well as temporarily suspending the tradition of naming each Super Bowl game with Roman numerals (under which the game would have been known as \\\"Super Bowl L\\\"), so that the logo could prominently feature the Arabic numerals 50.\", \"question\": \"Which NFL team represented the AFC at Super Bowl 50?\", \"answer_start\": 192, \"answer_end\": 206}\r\n",
      "{\"context\": \"Super Bowl 50. Super Bowl 50 was an American football game to determine the champion of the National Football League (NFL) for the 2015 season. The American Football Conference (AFC) champion Denver Broncos defeated the National Football Conference (NFC) champion Carolina Panthers 24\\u201310 to earn their third Super Bowl title. The game was played on February 7, 2016, at Levi's Stadium in the San Francisco Bay Area at Santa Clara, California. As this was the 50th Super Bowl, the league emphasized the \\\"golden anniversary\\\" with various gold-themed initiatives, as well as temporarily suspending the tradition of naming each Super Bowl game with Roman numerals (under which the game would have been known as \\\"Super Bowl L\\\"), so that the logo could prominently feature the Arabic numerals 50.\", \"question\": \"Which NFL team represented the NFC at Super Bowl 50?\", \"answer_start\": 264, \"answer_end\": 281}\r\n",
      "{\"context\": \"Super Bowl 50. Super Bowl 50 was an American football game to determine the champion of the National Football League (NFL) for the 2015 season. The American Football Conference (AFC) champion Denver Broncos defeated the National Football Conference (NFC) champion Carolina Panthers 24\\u201310 to earn their third Super Bowl title. The game was played on February 7, 2016, at Levi's Stadium in the San Francisco Bay Area at Santa Clara, California. As this was the 50th Super Bowl, the league emphasized the \\\"golden anniversary\\\" with various gold-themed initiatives, as well as temporarily suspending the tradition of naming each Super Bowl game with Roman numerals (under which the game would have been known as \\\"Super Bowl L\\\"), so that the logo could prominently feature the Arabic numerals 50.\", \"question\": \"Where did Super Bowl 50 take place?\", \"answer_start\": 418, \"answer_end\": 441}\r\n",
      "{\"context\": \"Super Bowl 50. Super Bowl 50 was an American football game to determine the champion of the National Football League (NFL) for the 2015 season. The American Football Conference (AFC) champion Denver Broncos defeated the National Football Conference (NFC) champion Carolina Panthers 24\\u201310 to earn their third Super Bowl title. The game was played on February 7, 2016, at Levi's Stadium in the San Francisco Bay Area at Santa Clara, California. As this was the 50th Super Bowl, the league emphasized the \\\"golden anniversary\\\" with various gold-themed initiatives, as well as temporarily suspending the tradition of naming each Super Bowl game with Roman numerals (under which the game would have been known as \\\"Super Bowl L\\\"), so that the logo could prominently feature the Arabic numerals 50.\", \"question\": \"Which NFL team won Super Bowl 50?\", \"answer_start\": 192, \"answer_end\": 206}\r\n",
      "{\"context\": \"Super Bowl 50. Super Bowl 50 was an American football game to determine the champion of the National Football League (NFL) for the 2015 season. The American Football Conference (AFC) champion Denver Broncos defeated the National Football Conference (NFC) champion Carolina Panthers 24\\u201310 to earn their third Super Bowl title. The game was played on February 7, 2016, at Levi's Stadium in the San Francisco Bay Area at Santa Clara, California. As this was the 50th Super Bowl, the league emphasized the \\\"golden anniversary\\\" with various gold-themed initiatives, as well as temporarily suspending the tradition of naming each Super Bowl game with Roman numerals (under which the game would have been known as \\\"Super Bowl L\\\"), so that the logo could prominently feature the Arabic numerals 50.\", \"question\": \"What color was used to emphasize the 50th anniversary of the Super Bowl?\", \"answer_start\": 503, \"answer_end\": 507}\r\n"
     ]
    }
   ],
   "source": [
    "! head -5 $dir_path/validation.$output_format"
   ]
  },
  {
   "cell_type": "code",
   "execution_count": null,
   "metadata": {},
   "outputs": [],
   "source": []
  }
 ],
 "metadata": {
  "kernelspec": {
   "display_name": "Python 3 (ipykernel)",
   "language": "python",
   "name": "python3"
  },
  "language_info": {
   "codemirror_mode": {
    "name": "ipython",
    "version": 3
   },
   "file_extension": ".py",
   "mimetype": "text/x-python",
   "name": "python",
   "nbconvert_exporter": "python",
   "pygments_lexer": "ipython3",
   "version": "3.8.11"
  }
 },
 "nbformat": 4,
 "nbformat_minor": 1
}