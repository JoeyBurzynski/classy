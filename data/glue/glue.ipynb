{
 "cells": [
  {
   "cell_type": "code",
   "execution_count": 23,
   "outputs": [],
   "source": [
    "from datasets import load_dataset\n",
    "import os\n",
    "\n",
    "def save_glue_task(task):\n",
    "\n",
    "  ds = load_dataset('glue', task)\n",
    "\n",
    "  label_int2str = ds['train'].features['label'].int2str\n",
    "\n",
    "  for split, dataset in ds.items():\n",
    "\n",
    "    if not os.path.exists(task):\n",
    "      os.mkdir(task)\n",
    "\n",
    "    with open(f'{task}/{split}.tsv', 'w') as f:\n",
    "      for item in dataset:\n",
    "        print(f'{item[\"sentence1\"]}\\t{item[\"sentence2\"]}\\t{label_int2str(item[\"label\"])}', file=f)"
   ],
   "metadata": {
    "collapsed": false,
    "pycharm": {
     "name": "#%%\n"
    }
   }
  },
  {
   "cell_type": "code",
   "execution_count": 24,
   "outputs": [
    {
     "name": "stderr",
     "output_type": "stream",
     "text": [
      "Reusing dataset glue (/home/nick/.cache/huggingface/datasets/glue/mrpc/1.0.0/dacbe3125aa31d7f70367a07a8a9e72a5a0bfeb5fc42e75c9db75b96da6053ad)\n"
     ]
    }
   ],
   "source": [
    "save_glue_task('mrpc')"
   ],
   "metadata": {
    "collapsed": false,
    "pycharm": {
     "name": "#%%\n"
    }
   }
  }
 ],
 "metadata": {
  "kernelspec": {
   "display_name": "Python 3",
   "language": "python",
   "name": "python3"
  },
  "language_info": {
   "codemirror_mode": {
    "name": "ipython",
    "version": 2
   },
   "file_extension": ".py",
   "mimetype": "text/x-python",
   "name": "python",
   "nbconvert_exporter": "python",
   "pygments_lexer": "ipython2",
   "version": "2.7.6"
  }
 },
 "nbformat": 4,
 "nbformat_minor": 0
}