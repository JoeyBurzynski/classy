{
 "cells": [
  {
   "cell_type": "code",
   "execution_count": 1,
   "metadata": {},
   "outputs": [
    {
     "name": "stdout",
     "output_type": "stream",
     "text": [
      "Requirement already satisfied: datasets==1.11.0 in /home/poccio/miniconda3/envs/tmp/lib/python3.7/site-packages (1.11.0)\n",
      "Requirement already satisfied: numpy>=1.17 in /home/poccio/miniconda3/envs/tmp/lib/python3.7/site-packages (from datasets==1.11.0) (1.18.3)\n",
      "Requirement already satisfied: tqdm>=4.42 in /home/poccio/miniconda3/envs/tmp/lib/python3.7/site-packages (from datasets==1.11.0) (4.49.0)\n",
      "Requirement already satisfied: requests>=2.19.0 in /home/poccio/miniconda3/envs/tmp/lib/python3.7/site-packages (from datasets==1.11.0) (2.25.1)\n",
      "Requirement already satisfied: huggingface-hub<0.1.0 in /home/poccio/miniconda3/envs/tmp/lib/python3.7/site-packages (from datasets==1.11.0) (0.0.2)\n",
      "Requirement already satisfied: dill in /home/poccio/miniconda3/envs/tmp/lib/python3.7/site-packages (from datasets==1.11.0) (0.3.3)\n",
      "Requirement already satisfied: pandas in /home/poccio/miniconda3/envs/tmp/lib/python3.7/site-packages (from datasets==1.11.0) (1.2.3)\n",
      "Requirement already satisfied: pyarrow!=4.0.0,>=1.0.0 in /home/poccio/miniconda3/envs/tmp/lib/python3.7/site-packages (from datasets==1.11.0) (3.0.0)\n",
      "Requirement already satisfied: xxhash in /home/poccio/miniconda3/envs/tmp/lib/python3.7/site-packages (from datasets==1.11.0) (2.0.0)\n",
      "Requirement already satisfied: multiprocess in /home/poccio/miniconda3/envs/tmp/lib/python3.7/site-packages (from datasets==1.11.0) (0.70.11.1)\n",
      "Requirement already satisfied: importlib-metadata; python_version < \"3.8\" in /home/poccio/.local/lib/python3.7/site-packages (from datasets==1.11.0) (2.0.0)\n",
      "Requirement already satisfied: packaging in /home/poccio/miniconda3/envs/tmp/lib/python3.7/site-packages (from datasets==1.11.0) (20.3)\n",
      "Requirement already satisfied: fsspec>=2021.05.0 in /home/poccio/miniconda3/envs/tmp/lib/python3.7/site-packages (from datasets==1.11.0) (2021.8.1)\n",
      "Requirement already satisfied: urllib3<1.27,>=1.21.1 in /home/poccio/miniconda3/envs/tmp/lib/python3.7/site-packages (from requests>=2.19.0->datasets==1.11.0) (1.26.3)\n",
      "Requirement already satisfied: chardet<5,>=3.0.2 in /home/poccio/miniconda3/envs/tmp/lib/python3.7/site-packages (from requests>=2.19.0->datasets==1.11.0) (4.0.0)\n",
      "Requirement already satisfied: certifi>=2017.4.17 in /home/poccio/miniconda3/envs/tmp/lib/python3.7/site-packages (from requests>=2.19.0->datasets==1.11.0) (2020.4.5.1)\n",
      "Requirement already satisfied: idna<3,>=2.5 in /home/poccio/miniconda3/envs/tmp/lib/python3.7/site-packages (from requests>=2.19.0->datasets==1.11.0) (2.10)\n",
      "Requirement already satisfied: filelock in /home/poccio/.local/lib/python3.7/site-packages (from huggingface-hub<0.1.0->datasets==1.11.0) (3.0.12)\n",
      "Requirement already satisfied: python-dateutil>=2.7.3 in /home/poccio/miniconda3/envs/tmp/lib/python3.7/site-packages (from pandas->datasets==1.11.0) (2.8.1)\n",
      "Requirement already satisfied: pytz>=2017.3 in /home/poccio/miniconda3/envs/tmp/lib/python3.7/site-packages (from pandas->datasets==1.11.0) (2021.1)\n",
      "Requirement already satisfied: zipp>=0.5 in /home/poccio/.local/lib/python3.7/site-packages (from importlib-metadata; python_version < \"3.8\"->datasets==1.11.0) (3.3.1)\n",
      "Requirement already satisfied: pyparsing>=2.0.2 in /home/poccio/miniconda3/envs/tmp/lib/python3.7/site-packages (from packaging->datasets==1.11.0) (2.4.7)\n",
      "Requirement already satisfied: six in /home/poccio/miniconda3/envs/tmp/lib/python3.7/site-packages (from packaging->datasets==1.11.0) (1.14.0)\n"
     ]
    }
   ],
   "source": [
    "! pip install datasets==1.11.0"
   ]
  },
  {
   "cell_type": "code",
   "execution_count": 2,
   "metadata": {},
   "outputs": [],
   "source": [
    "from datasets import load_dataset\n",
    "import os"
   ]
  },
  {
   "cell_type": "code",
   "execution_count": 3,
   "metadata": {
    "pycharm": {
     "name": "#%%\n"
    }
   },
   "outputs": [],
   "source": [
    "def save_glue_task(task):\n",
    "\n",
    "    ds = load_dataset('glue', task)\n",
    "\n",
    "    label_int2str = ds['train'].features['label'].int2str\n",
    "\n",
    "    for split, dataset in ds.items():\n",
    "\n",
    "        if not os.path.exists(task):\n",
    "            os.mkdir(task)\n",
    "\n",
    "        with open(f'{task}/{split}.tsv', 'w') as f:\n",
    "            for item in dataset:\n",
    "                if split == 'test':\n",
    "                    # labels are secret on glue for test\n",
    "                    print(f'{item[\"sentence1\"]}\\tsecret', file=f)\n",
    "                else:\n",
    "                    print(f'{item[\"sentence1\"]}\\t{item[\"sentence2\"]}\\t{label_int2str(item[\"label\"])}', file=f)"
   ]
  },
  {
   "cell_type": "code",
   "execution_count": 4,
   "metadata": {},
   "outputs": [
    {
     "name": "stderr",
     "output_type": "stream",
     "text": [
      "Reusing dataset glue (/home/poccio/.cache/huggingface/datasets/glue/mrpc/1.0.0/dacbe3125aa31d7f70367a07a8a9e72a5a0bfeb5fc42e75c9db75b96da6053ad)\n"
     ]
    }
   ],
   "source": [
    "save_glue_task('mrpc')"
   ]
  },
  {
   "cell_type": "code",
   "execution_count": null,
   "metadata": {},
   "outputs": [],
   "source": []
  }
 ],
 "metadata": {
  "kernelspec": {
   "display_name": "Python 3",
   "language": "python",
   "name": "python3"
  },
  "language_info": {
   "codemirror_mode": {
    "name": "ipython",
    "version": 3
   },
   "file_extension": ".py",
   "mimetype": "text/x-python",
   "name": "python",
   "nbconvert_exporter": "python",
   "pygments_lexer": "ipython3",
   "version": "3.7.7"
  }
 },
 "nbformat": 4,
 "nbformat_minor": 1
}
