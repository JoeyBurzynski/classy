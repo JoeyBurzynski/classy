{
 "cells": [
  {
   "cell_type": "markdown",
   "metadata": {},
   "source": [
    "# Token Level Classification : CoNLL-2003\n",
    "\n",
    "This is a simple notebook to download and store the CoNLL-2003 Named Entity Recognition dataset. We will take it from Huggingface datasets libray (<3) and turn it into one of the two formats that classy is able to parse (i.e. jsonl or tsv).\n",
    "\n",
    "```bash\n",
    "classy train token data/token/conll2003 -n my_firt_conll2003_run\n",
    "```"
   ]
  },
  {
   "cell_type": "code",
   "execution_count": 3,
   "metadata": {},
   "outputs": [
    {
     "name": "stdout",
     "output_type": "stream",
     "text": [
      "Requirement already satisfied: datasets in /home/edobobo/miniconda3/envs/classy/lib/python3.8/site-packages (1.11.0)\n",
      "Requirement already satisfied: packaging in /home/edobobo/miniconda3/envs/classy/lib/python3.8/site-packages (from datasets) (21.0)\n",
      "Requirement already satisfied: pandas in /home/edobobo/miniconda3/envs/classy/lib/python3.8/site-packages (from datasets) (1.3.2)\n",
      "Requirement already satisfied: numpy>=1.17 in /home/edobobo/miniconda3/envs/classy/lib/python3.8/site-packages (from datasets) (1.21.2)\n",
      "Requirement already satisfied: fsspec>=2021.05.0 in /home/edobobo/miniconda3/envs/classy/lib/python3.8/site-packages (from datasets) (2021.8.1)\n",
      "Requirement already satisfied: dill in /home/edobobo/miniconda3/envs/classy/lib/python3.8/site-packages (from datasets) (0.3.4)\n",
      "Requirement already satisfied: xxhash in /home/edobobo/miniconda3/envs/classy/lib/python3.8/site-packages (from datasets) (2.0.2)\n",
      "Requirement already satisfied: multiprocess in /home/edobobo/miniconda3/envs/classy/lib/python3.8/site-packages (from datasets) (0.70.12.2)\n",
      "Requirement already satisfied: pyarrow!=4.0.0,>=1.0.0 in /home/edobobo/miniconda3/envs/classy/lib/python3.8/site-packages (from datasets) (5.0.0)\n",
      "Requirement already satisfied: huggingface-hub<0.1.0 in /home/edobobo/miniconda3/envs/classy/lib/python3.8/site-packages (from datasets) (0.0.12)\n",
      "Requirement already satisfied: requests>=2.19.0 in /home/edobobo/miniconda3/envs/classy/lib/python3.8/site-packages (from datasets) (2.26.0)\n",
      "Requirement already satisfied: tqdm>=4.42 in /home/edobobo/miniconda3/envs/classy/lib/python3.8/site-packages (from datasets) (4.62.2)\n",
      "Requirement already satisfied: typing-extensions in /home/edobobo/miniconda3/envs/classy/lib/python3.8/site-packages (from huggingface-hub<0.1.0->datasets) (3.10.0.0)\n",
      "Requirement already satisfied: filelock in /home/edobobo/miniconda3/envs/classy/lib/python3.8/site-packages (from huggingface-hub<0.1.0->datasets) (3.0.12)\n",
      "Requirement already satisfied: pyparsing>=2.0.2 in /home/edobobo/miniconda3/envs/classy/lib/python3.8/site-packages (from packaging->datasets) (2.4.7)\n",
      "Requirement already satisfied: charset-normalizer~=2.0.0 in /home/edobobo/miniconda3/envs/classy/lib/python3.8/site-packages (from requests>=2.19.0->datasets) (2.0.4)\n",
      "Requirement already satisfied: certifi>=2017.4.17 in /home/edobobo/miniconda3/envs/classy/lib/python3.8/site-packages (from requests>=2.19.0->datasets) (2021.5.30)\n",
      "Requirement already satisfied: idna<4,>=2.5 in /home/edobobo/miniconda3/envs/classy/lib/python3.8/site-packages (from requests>=2.19.0->datasets) (3.2)\n",
      "Requirement already satisfied: urllib3<1.27,>=1.21.1 in /home/edobobo/miniconda3/envs/classy/lib/python3.8/site-packages (from requests>=2.19.0->datasets) (1.26.6)\n",
      "Requirement already satisfied: python-dateutil>=2.7.3 in /home/edobobo/miniconda3/envs/classy/lib/python3.8/site-packages (from pandas->datasets) (2.8.2)\n",
      "Requirement already satisfied: pytz>=2017.3 in /home/edobobo/miniconda3/envs/classy/lib/python3.8/site-packages (from pandas->datasets) (2021.1)\n",
      "Requirement already satisfied: six>=1.5 in /home/edobobo/miniconda3/envs/classy/lib/python3.8/site-packages (from python-dateutil>=2.7.3->pandas->datasets) (1.16.0)\n"
     ]
    }
   ],
   "source": [
    "! pip install datasets"
   ]
  },
  {
   "cell_type": "code",
   "execution_count": 4,
   "metadata": {},
   "outputs": [],
   "source": [
    "from datasets import load_dataset\n",
    "from tqdm.notebook import tqdm"
   ]
  },
  {
   "cell_type": "code",
   "execution_count": 5,
   "metadata": {},
   "outputs": [
    {
     "name": "stderr",
     "output_type": "stream",
     "text": [
      "Reusing dataset conll2003 (/home/edobobo/.cache/huggingface/datasets/conll2003/conll2003/1.0.0/40e7cb6bcc374f7c349c83acd1e9352a4f09474eb691f64f364ee62eb65d0ca6)\n"
     ]
    }
   ],
   "source": [
    "# here we load the dataset dataset from \"datasets\"\n",
    "dataset = load_dataset('conll2003')"
   ]
  },
  {
   "cell_type": "code",
   "execution_count": 6,
   "metadata": {},
   "outputs": [
    {
     "data": {
      "text/plain": [
       "{0: 'O',\n",
       " 1: 'B-PER',\n",
       " 2: 'I-PER',\n",
       " 3: 'B-ORG',\n",
       " 4: 'I-ORG',\n",
       " 5: 'B-LOC',\n",
       " 6: 'I-LOC',\n",
       " 7: 'B-MISC',\n",
       " 8: 'I-MISC'}"
      ]
     },
     "execution_count": 6,
     "metadata": {},
     "output_type": "execute_result"
    }
   ],
   "source": [
    "# here we build a simple mapping from the labels in the int format stored in the hf-datasets' version of conll2003\n",
    "# to a more readable string format.\n",
    "mapping = {\n",
    "    0: \"O\",\n",
    "    1: 'B-PER',\n",
    "    2: 'I-PER',\n",
    "    3: 'B-ORG',\n",
    "    4: 'I-ORG',\n",
    "    5: 'B-LOC',\n",
    "    6: 'I-LOC',\n",
    "    7: 'B-MISC',\n",
    "    8: 'I-MISC'\n",
    "}\n",
    "\n",
    "mapping"
   ]
  },
  {
   "cell_type": "code",
   "execution_count": 8,
   "metadata": {},
   "outputs": [
    {
     "name": "stdout",
     "output_type": "stream",
     "text": [
      "conll2003  conll2003.ipynb\r\n"
     ]
    }
   ],
   "source": [
    "# let's create a repositiory that will contain the dataset splits\n",
    "import os\n",
    "dir_path = \"conll2003\"\n",
    "os.mkdir(dir_path)\n",
    "! ls"
   ]
  },
  {
   "cell_type": "code",
   "execution_count": 9,
   "metadata": {},
   "outputs": [],
   "source": [
    "# if you want the output format to be tab separated comment the first line and decomment the second one\n",
    "output_format = \"jsonl\"\n",
    "# output_format = \"tsv\"\n",
    "\n",
    "if output_format == \"jsonl\":\n",
    "    import json"
   ]
  },
  {
   "cell_type": "code",
   "execution_count": 10,
   "metadata": {},
   "outputs": [
    {
     "data": {
      "application/vnd.jupyter.widget-view+json": {
       "model_id": "9730df0b468b494f86a12acf74ee8363",
       "version_major": 2,
       "version_minor": 0
      },
      "text/plain": [
       "  0%|          | 0/14041 [00:00<?, ?it/s]"
      ]
     },
     "metadata": {},
     "output_type": "display_data"
    },
    {
     "data": {
      "application/vnd.jupyter.widget-view+json": {
       "model_id": "bd05dbd92f704df18ee4f6492222117f",
       "version_major": 2,
       "version_minor": 0
      },
      "text/plain": [
       "  0%|          | 0/3250 [00:00<?, ?it/s]"
      ]
     },
     "metadata": {},
     "output_type": "display_data"
    },
    {
     "data": {
      "application/vnd.jupyter.widget-view+json": {
       "model_id": "e9b9a5eb04b448648d48d352aefd7257",
       "version_major": 2,
       "version_minor": 0
      },
      "text/plain": [
       "  0%|          | 0/3453 [00:00<?, ?it/s]"
      ]
     },
     "metadata": {},
     "output_type": "display_data"
    }
   ],
   "source": [
    "for k in ['train', 'validation', 'test']:\n",
    "    \n",
    "    with open(f'{dir_path}/{k}.{output_format}', 'w') as f:\n",
    "    \n",
    "        for instance in tqdm(dataset[k]):\n",
    "            tokens = instance['tokens']\n",
    "            ner_tags = [mapping[j] for j in instance['ner_tags']]\n",
    "            \n",
    "            if output_format == \"jsonl\":\n",
    "                json_dict = dict(tokens=tokens, labels=ner_tags)\n",
    "                dump_line = json.dumps(json_dict)\n",
    "            else:\n",
    "                dump_line = f'{\" \".join(tokens)}\\t{\" \".join(ner_tags)}'\n",
    "            \n",
    "            f.write(dump_line)\n",
    "            f.write(\"\\n\")"
   ]
  },
  {
   "cell_type": "code",
   "execution_count": 11,
   "metadata": {},
   "outputs": [
    {
     "name": "stdout",
     "output_type": "stream",
     "text": [
      "{\"tokens\": [\"EU\", \"rejects\", \"German\", \"call\", \"to\", \"boycott\", \"British\", \"lamb\", \".\"], \"labels\": [\"B-ORG\", \"O\", \"B-MISC\", \"O\", \"O\", \"O\", \"B-MISC\", \"O\", \"O\"]}\r\n",
      "{\"tokens\": [\"Peter\", \"Blackburn\"], \"labels\": [\"B-PER\", \"I-PER\"]}\r\n",
      "{\"tokens\": [\"BRUSSELS\", \"1996-08-22\"], \"labels\": [\"B-LOC\", \"O\"]}\r\n",
      "{\"tokens\": [\"The\", \"European\", \"Commission\", \"said\", \"on\", \"Thursday\", \"it\", \"disagreed\", \"with\", \"German\", \"advice\", \"to\", \"consumers\", \"to\", \"shun\", \"British\", \"lamb\", \"until\", \"scientists\", \"determine\", \"whether\", \"mad\", \"cow\", \"disease\", \"can\", \"be\", \"transmitted\", \"to\", \"sheep\", \".\"], \"labels\": [\"O\", \"B-ORG\", \"I-ORG\", \"O\", \"O\", \"O\", \"O\", \"O\", \"O\", \"B-MISC\", \"O\", \"O\", \"O\", \"O\", \"O\", \"B-MISC\", \"O\", \"O\", \"O\", \"O\", \"O\", \"O\", \"O\", \"O\", \"O\", \"O\", \"O\", \"O\", \"O\", \"O\"]}\r\n",
      "{\"tokens\": [\"Germany\", \"'s\", \"representative\", \"to\", \"the\", \"European\", \"Union\", \"'s\", \"veterinary\", \"committee\", \"Werner\", \"Zwingmann\", \"said\", \"on\", \"Wednesday\", \"consumers\", \"should\", \"buy\", \"sheepmeat\", \"from\", \"countries\", \"other\", \"than\", \"Britain\", \"until\", \"the\", \"scientific\", \"advice\", \"was\", \"clearer\", \".\"], \"labels\": [\"B-LOC\", \"O\", \"O\", \"O\", \"O\", \"B-ORG\", \"I-ORG\", \"O\", \"O\", \"O\", \"B-PER\", \"I-PER\", \"O\", \"O\", \"O\", \"O\", \"O\", \"O\", \"O\", \"O\", \"O\", \"O\", \"O\", \"B-LOC\", \"O\", \"O\", \"O\", \"O\", \"O\", \"O\", \"O\"]}\r\n"
     ]
    }
   ],
   "source": [
    "! head -5 conll2003/train.$output_format"
   ]
  },
  {
   "cell_type": "code",
   "execution_count": 14,
   "metadata": {},
   "outputs": [
    {
     "name": "stdout",
     "output_type": "stream",
     "text": [
      "{\"tokens\": [\"CRICKET\", \"-\", \"LEICESTERSHIRE\", \"TAKE\", \"OVER\", \"AT\", \"TOP\", \"AFTER\", \"INNINGS\", \"VICTORY\", \".\"], \"labels\": [\"O\", \"O\", \"B-ORG\", \"O\", \"O\", \"O\", \"O\", \"O\", \"O\", \"O\", \"O\"]}\r\n",
      "{\"tokens\": [\"LONDON\", \"1996-08-30\"], \"labels\": [\"B-LOC\", \"O\"]}\r\n",
      "{\"tokens\": [\"West\", \"Indian\", \"all-rounder\", \"Phil\", \"Simmons\", \"took\", \"four\", \"for\", \"38\", \"on\", \"Friday\", \"as\", \"Leicestershire\", \"beat\", \"Somerset\", \"by\", \"an\", \"innings\", \"and\", \"39\", \"runs\", \"in\", \"two\", \"days\", \"to\", \"take\", \"over\", \"at\", \"the\", \"head\", \"of\", \"the\", \"county\", \"championship\", \".\"], \"labels\": [\"B-MISC\", \"I-MISC\", \"O\", \"B-PER\", \"I-PER\", \"O\", \"O\", \"O\", \"O\", \"O\", \"O\", \"O\", \"B-ORG\", \"O\", \"B-ORG\", \"O\", \"O\", \"O\", \"O\", \"O\", \"O\", \"O\", \"O\", \"O\", \"O\", \"O\", \"O\", \"O\", \"O\", \"O\", \"O\", \"O\", \"O\", \"O\", \"O\"]}\r\n",
      "{\"tokens\": [\"Their\", \"stay\", \"on\", \"top\", \",\", \"though\", \",\", \"may\", \"be\", \"short-lived\", \"as\", \"title\", \"rivals\", \"Essex\", \",\", \"Derbyshire\", \"and\", \"Surrey\", \"all\", \"closed\", \"in\", \"on\", \"victory\", \"while\", \"Kent\", \"made\", \"up\", \"for\", \"lost\", \"time\", \"in\", \"their\", \"rain-affected\", \"match\", \"against\", \"Nottinghamshire\", \".\"], \"labels\": [\"O\", \"O\", \"O\", \"O\", \"O\", \"O\", \"O\", \"O\", \"O\", \"O\", \"O\", \"O\", \"O\", \"B-ORG\", \"O\", \"B-ORG\", \"O\", \"B-ORG\", \"O\", \"O\", \"O\", \"O\", \"O\", \"O\", \"B-ORG\", \"O\", \"O\", \"O\", \"O\", \"O\", \"O\", \"O\", \"O\", \"O\", \"O\", \"B-ORG\", \"O\"]}\r\n",
      "{\"tokens\": [\"After\", \"bowling\", \"Somerset\", \"out\", \"for\", \"83\", \"on\", \"the\", \"opening\", \"morning\", \"at\", \"Grace\", \"Road\", \",\", \"Leicestershire\", \"extended\", \"their\", \"first\", \"innings\", \"by\", \"94\", \"runs\", \"before\", \"being\", \"bowled\", \"out\", \"for\", \"296\", \"with\", \"England\", \"discard\", \"Andy\", \"Caddick\", \"taking\", \"three\", \"for\", \"83\", \".\"], \"labels\": [\"O\", \"O\", \"B-ORG\", \"O\", \"O\", \"O\", \"O\", \"O\", \"O\", \"O\", \"O\", \"B-LOC\", \"I-LOC\", \"O\", \"B-ORG\", \"O\", \"O\", \"O\", \"O\", \"O\", \"O\", \"O\", \"O\", \"O\", \"O\", \"O\", \"O\", \"O\", \"O\", \"B-LOC\", \"O\", \"B-PER\", \"I-PER\", \"O\", \"O\", \"O\", \"O\", \"O\"]}\r\n"
     ]
    }
   ],
   "source": [
    "! head -5 conll2003/validation.$output_format"
   ]
  },
  {
   "cell_type": "code",
   "execution_count": 15,
   "metadata": {},
   "outputs": [
    {
     "name": "stdout",
     "output_type": "stream",
     "text": [
      "{\"tokens\": [\"SOCCER\", \"-\", \"JAPAN\", \"GET\", \"LUCKY\", \"WIN\", \",\", \"CHINA\", \"IN\", \"SURPRISE\", \"DEFEAT\", \".\"], \"labels\": [\"O\", \"O\", \"B-LOC\", \"O\", \"O\", \"O\", \"O\", \"B-PER\", \"O\", \"O\", \"O\", \"O\"]}\r\n",
      "{\"tokens\": [\"Nadim\", \"Ladki\"], \"labels\": [\"B-PER\", \"I-PER\"]}\r\n",
      "{\"tokens\": [\"AL-AIN\", \",\", \"United\", \"Arab\", \"Emirates\", \"1996-12-06\"], \"labels\": [\"B-LOC\", \"O\", \"B-LOC\", \"I-LOC\", \"I-LOC\", \"O\"]}\r\n",
      "{\"tokens\": [\"Japan\", \"began\", \"the\", \"defence\", \"of\", \"their\", \"Asian\", \"Cup\", \"title\", \"with\", \"a\", \"lucky\", \"2-1\", \"win\", \"against\", \"Syria\", \"in\", \"a\", \"Group\", \"C\", \"championship\", \"match\", \"on\", \"Friday\", \".\"], \"labels\": [\"B-LOC\", \"O\", \"O\", \"O\", \"O\", \"O\", \"B-MISC\", \"I-MISC\", \"O\", \"O\", \"O\", \"O\", \"O\", \"O\", \"O\", \"B-LOC\", \"O\", \"O\", \"O\", \"O\", \"O\", \"O\", \"O\", \"O\", \"O\"]}\r\n",
      "{\"tokens\": [\"But\", \"China\", \"saw\", \"their\", \"luck\", \"desert\", \"them\", \"in\", \"the\", \"second\", \"match\", \"of\", \"the\", \"group\", \",\", \"crashing\", \"to\", \"a\", \"surprise\", \"2-0\", \"defeat\", \"to\", \"newcomers\", \"Uzbekistan\", \".\"], \"labels\": [\"O\", \"B-LOC\", \"O\", \"O\", \"O\", \"O\", \"O\", \"O\", \"O\", \"O\", \"O\", \"O\", \"O\", \"O\", \"O\", \"O\", \"O\", \"O\", \"O\", \"O\", \"O\", \"O\", \"O\", \"B-LOC\", \"O\"]}\r\n"
     ]
    }
   ],
   "source": [
    "! head -5 conll2003/test.$output_format"
   ]
  },
  {
   "cell_type": "code",
   "execution_count": null,
   "metadata": {},
   "outputs": [],
   "source": []
  }
 ],
 "metadata": {
  "kernelspec": {
   "display_name": "Python 3 (ipykernel)",
   "language": "python",
   "name": "python3"
  },
  "language_info": {
   "codemirror_mode": {
    "name": "ipython",
    "version": 3
   },
   "file_extension": ".py",
   "mimetype": "text/x-python",
   "name": "python",
   "nbconvert_exporter": "python",
   "pygments_lexer": "ipython3",
   "version": "3.8.11"
  }
 },
 "nbformat": 4,
 "nbformat_minor": 4
}
