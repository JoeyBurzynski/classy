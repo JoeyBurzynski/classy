{
 "cells": [
  {
   "cell_type": "code",
   "execution_count": 1,
   "metadata": {},
   "outputs": [
    {
     "name": "stdout",
     "output_type": "stream",
     "text": [
      "Requirement already satisfied: datasets in /home/poccio/miniconda3/envs/tmp/lib/python3.7/site-packages (1.4.1)\n",
      "Requirement already satisfied: pandas in /home/poccio/miniconda3/envs/tmp/lib/python3.7/site-packages (from datasets) (1.2.3)\n",
      "Requirement already satisfied: requests>=2.19.0 in /home/poccio/miniconda3/envs/tmp/lib/python3.7/site-packages (from datasets) (2.25.1)\n",
      "Requirement already satisfied: dill in /home/poccio/miniconda3/envs/tmp/lib/python3.7/site-packages (from datasets) (0.3.3)\n",
      "Requirement already satisfied: pyarrow>=0.17.1 in /home/poccio/miniconda3/envs/tmp/lib/python3.7/site-packages (from datasets) (3.0.0)\n",
      "Requirement already satisfied: multiprocess in /home/poccio/miniconda3/envs/tmp/lib/python3.7/site-packages (from datasets) (0.70.11.1)\n",
      "Requirement already satisfied: fsspec in /home/poccio/miniconda3/envs/tmp/lib/python3.7/site-packages (from datasets) (0.8.7)\n",
      "Requirement already satisfied: tqdm<4.50.0,>=4.27 in /home/poccio/miniconda3/envs/tmp/lib/python3.7/site-packages (from datasets) (4.49.0)\n",
      "Requirement already satisfied: huggingface-hub==0.0.2 in /home/poccio/miniconda3/envs/tmp/lib/python3.7/site-packages (from datasets) (0.0.2)\n",
      "Requirement already satisfied: numpy>=1.17 in /home/poccio/miniconda3/envs/tmp/lib/python3.7/site-packages (from datasets) (1.18.3)\n",
      "Requirement already satisfied: xxhash in /home/poccio/miniconda3/envs/tmp/lib/python3.7/site-packages (from datasets) (2.0.0)\n",
      "Requirement already satisfied: importlib-metadata; python_version < \"3.8\" in /home/poccio/.local/lib/python3.7/site-packages (from datasets) (2.0.0)\n",
      "Requirement already satisfied: python-dateutil>=2.7.3 in /home/poccio/miniconda3/envs/tmp/lib/python3.7/site-packages (from pandas->datasets) (2.8.1)\n",
      "Requirement already satisfied: pytz>=2017.3 in /home/poccio/miniconda3/envs/tmp/lib/python3.7/site-packages (from pandas->datasets) (2021.1)\n",
      "Requirement already satisfied: urllib3<1.27,>=1.21.1 in /home/poccio/miniconda3/envs/tmp/lib/python3.7/site-packages (from requests>=2.19.0->datasets) (1.26.3)\n",
      "Requirement already satisfied: chardet<5,>=3.0.2 in /home/poccio/miniconda3/envs/tmp/lib/python3.7/site-packages (from requests>=2.19.0->datasets) (4.0.0)\n",
      "Requirement already satisfied: idna<3,>=2.5 in /home/poccio/miniconda3/envs/tmp/lib/python3.7/site-packages (from requests>=2.19.0->datasets) (2.10)\n",
      "Requirement already satisfied: certifi>=2017.4.17 in /home/poccio/miniconda3/envs/tmp/lib/python3.7/site-packages (from requests>=2.19.0->datasets) (2020.4.5.1)\n",
      "Requirement already satisfied: filelock in /home/poccio/.local/lib/python3.7/site-packages (from huggingface-hub==0.0.2->datasets) (3.0.12)\n",
      "Requirement already satisfied: zipp>=0.5 in /home/poccio/.local/lib/python3.7/site-packages (from importlib-metadata; python_version < \"3.8\"->datasets) (3.3.1)\n",
      "Requirement already satisfied: six>=1.5 in /home/poccio/miniconda3/envs/tmp/lib/python3.7/site-packages (from python-dateutil>=2.7.3->pandas->datasets) (1.14.0)\n"
     ]
    }
   ],
   "source": [
    "! pip install datasets"
   ]
  },
  {
   "cell_type": "code",
   "execution_count": 2,
   "metadata": {},
   "outputs": [],
   "source": [
    "from datasets import load_dataset\n",
    "from tqdm.notebook import tqdm"
   ]
  },
  {
   "cell_type": "code",
   "execution_count": 3,
   "metadata": {},
   "outputs": [
    {
     "name": "stderr",
     "output_type": "stream",
     "text": [
      "Reusing dataset conll2003 (/home/poccio/.cache/huggingface/datasets/conll2003/conll2003/1.0.0/40e7cb6bcc374f7c349c83acd1e9352a4f09474eb691f64f364ee62eb65d0ca6)\n"
     ]
    }
   ],
   "source": [
    "dataset = load_dataset('conll2003')"
   ]
  },
  {
   "cell_type": "code",
   "execution_count": 4,
   "metadata": {},
   "outputs": [
    {
     "data": {
      "text/plain": [
       "{0: 'O',\n",
       " 1: 'B-PER',\n",
       " 2: 'I-PER',\n",
       " 3: 'B-ORG',\n",
       " 4: 'I-ORG',\n",
       " 5: 'B-LOC',\n",
       " 6: 'I-LOC',\n",
       " 7: 'B-MISC',\n",
       " 8: 'I-MISC'}"
      ]
     },
     "execution_count": 4,
     "metadata": {},
     "output_type": "execute_result"
    }
   ],
   "source": [
    "mapping = {}\n",
    "raw = '''O (0), B-PER (1), I-PER (2), B-ORG (3), I-ORG (4), B-LOC (5), I-LOC (6), B-MISC (7), I-MISC (8)'''\n",
    "for elem in raw.split(', '):\n",
    "    k, v = elem.replace('(', '').replace(')', '').split(' ')\n",
    "    v = int(v)\n",
    "    mapping[v] = k\n",
    "    \n",
    "mapping"
   ]
  },
  {
   "cell_type": "code",
   "execution_count": 5,
   "metadata": {},
   "outputs": [
    {
     "data": {
      "application/vnd.jupyter.widget-view+json": {
       "model_id": "06b1d4a0a22e4d6e9e76e0e16746f516",
       "version_major": 2,
       "version_minor": 0
      },
      "text/plain": [
       "HBox(children=(FloatProgress(value=0.0, max=14041.0), HTML(value='')))"
      ]
     },
     "metadata": {},
     "output_type": "display_data"
    },
    {
     "name": "stdout",
     "output_type": "stream",
     "text": [
      "\n"
     ]
    },
    {
     "data": {
      "application/vnd.jupyter.widget-view+json": {
       "model_id": "da342cc3e7e444bab61b0bb43d6ca01a",
       "version_major": 2,
       "version_minor": 0
      },
      "text/plain": [
       "HBox(children=(FloatProgress(value=0.0, max=3250.0), HTML(value='')))"
      ]
     },
     "metadata": {},
     "output_type": "display_data"
    },
    {
     "name": "stdout",
     "output_type": "stream",
     "text": [
      "\n"
     ]
    },
    {
     "data": {
      "application/vnd.jupyter.widget-view+json": {
       "model_id": "60c62323785a47d1a346aabf89a23e6d",
       "version_major": 2,
       "version_minor": 0
      },
      "text/plain": [
       "HBox(children=(FloatProgress(value=0.0, max=3453.0), HTML(value='')))"
      ]
     },
     "metadata": {},
     "output_type": "display_data"
    },
    {
     "name": "stdout",
     "output_type": "stream",
     "text": [
      "\n"
     ]
    }
   ],
   "source": [
    "for k in ['train', 'validation', 'test']:\n",
    "    with open(f'{k}.tsv', 'w') as f:\n",
    "        for instance in tqdm(dataset[k]):\n",
    "            tokens = instance['tokens']\n",
    "            ner_tags = [mapping[j] for j in instance['ner_tags']]\n",
    "            f.write(f'{\" \".join(tokens)}\\t{\" \".join(ner_tags)}\\n')"
   ]
  },
  {
   "cell_type": "code",
   "execution_count": 6,
   "metadata": {},
   "outputs": [
    {
     "name": "stdout",
     "output_type": "stream",
     "text": [
      "EU rejects German call to boycott British lamb .\tB-ORG O B-MISC O O O B-MISC O O\r\n",
      "Peter Blackburn\tB-PER I-PER\r\n",
      "BRUSSELS 1996-08-22\tB-LOC O\r\n",
      "The European Commission said on Thursday it disagreed with German advice to consumers to shun British lamb until scientists determine whether mad cow disease can be transmitted to sheep .\tO B-ORG I-ORG O O O O O O B-MISC O O O O O B-MISC O O O O O O O O O O O O O O\r\n",
      "Germany 's representative to the European Union 's veterinary committee Werner Zwingmann said on Wednesday consumers should buy sheepmeat from countries other than Britain until the scientific advice was clearer .\tB-LOC O O O O B-ORG I-ORG O O O B-PER I-PER O O O O O O O O O O O B-LOC O O O O O O O\r\n"
     ]
    }
   ],
   "source": [
    "! head -5 train.tsv"
   ]
  },
  {
   "cell_type": "code",
   "execution_count": 7,
   "metadata": {},
   "outputs": [
    {
     "name": "stdout",
     "output_type": "stream",
     "text": [
      "SOCCER - JAPAN GET LUCKY WIN , CHINA IN SURPRISE DEFEAT .\tO O B-LOC O O O O B-PER O O O O\r\n",
      "Nadim Ladki\tB-PER I-PER\r\n",
      "AL-AIN , United Arab Emirates 1996-12-06\tB-LOC O B-LOC I-LOC I-LOC O\r\n",
      "Japan began the defence of their Asian Cup title with a lucky 2-1 win against Syria in a Group C championship match on Friday .\tB-LOC O O O O O B-MISC I-MISC O O O O O O O B-LOC O O O O O O O O O\r\n",
      "But China saw their luck desert them in the second match of the group , crashing to a surprise 2-0 defeat to newcomers Uzbekistan .\tO B-LOC O O O O O O O O O O O O O O O O O O O O O B-LOC O\r\n"
     ]
    }
   ],
   "source": [
    "! head -5 test.tsv"
   ]
  },
  {
   "cell_type": "code",
   "execution_count": null,
   "metadata": {},
   "outputs": [],
   "source": []
  }
 ],
 "metadata": {
  "kernelspec": {
   "display_name": "Python 3",
   "language": "python",
   "name": "python3"
  },
  "language_info": {
   "codemirror_mode": {
    "name": "ipython",
    "version": 3
   },
   "file_extension": ".py",
   "mimetype": "text/x-python",
   "name": "python",
   "nbconvert_exporter": "python",
   "pygments_lexer": "ipython3",
   "version": "3.7.7"
  }
 },
 "nbformat": 4,
 "nbformat_minor": 4
}
