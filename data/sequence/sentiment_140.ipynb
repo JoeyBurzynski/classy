{
 "cells": [
  {
   "cell_type": "markdown",
   "metadata": {},
   "source": [
    "# Sequence Level Classification : Sentiment140\n",
    "\n",
    "This is a simple notebook to download and store the Sentiment140 Sentiment Analysis dataset. We will take it from Huggingface datasets libray (<3) and turn it into one of the two formats that classy is able to parse (i.e. jsonl or tsv).\n",
    "\n",
    "After creating this dataset you can train the model by exectuing the following bash command\n",
    "```bash\n",
    "classy train sequence data/sequence/sentiment_140 -n my_firt_sentiment140_run\n",
    "```"
   ]
  },
  {
   "cell_type": "code",
   "execution_count": 1,
   "metadata": {},
   "outputs": [
    {
     "name": "stdout",
     "output_type": "stream",
     "text": [
      "Requirement already satisfied: datasets in /home/edobobo/miniconda3/envs/classy/lib/python3.8/site-packages (1.11.0)\n",
      "Requirement already satisfied: packaging in /home/edobobo/miniconda3/envs/classy/lib/python3.8/site-packages (from datasets) (21.0)\n",
      "Requirement already satisfied: multiprocess in /home/edobobo/miniconda3/envs/classy/lib/python3.8/site-packages (from datasets) (0.70.12.2)\n",
      "Requirement already satisfied: xxhash in /home/edobobo/miniconda3/envs/classy/lib/python3.8/site-packages (from datasets) (2.0.2)\n",
      "Requirement already satisfied: huggingface-hub<0.1.0 in /home/edobobo/miniconda3/envs/classy/lib/python3.8/site-packages (from datasets) (0.0.12)\n",
      "Requirement already satisfied: tqdm>=4.42 in /home/edobobo/miniconda3/envs/classy/lib/python3.8/site-packages (from datasets) (4.62.2)\n",
      "Requirement already satisfied: numpy>=1.17 in /home/edobobo/miniconda3/envs/classy/lib/python3.8/site-packages (from datasets) (1.21.2)\n",
      "Requirement already satisfied: requests>=2.19.0 in /home/edobobo/miniconda3/envs/classy/lib/python3.8/site-packages (from datasets) (2.26.0)\n",
      "Requirement already satisfied: fsspec>=2021.05.0 in /home/edobobo/miniconda3/envs/classy/lib/python3.8/site-packages (from datasets) (2021.8.1)\n",
      "Requirement already satisfied: pyarrow!=4.0.0,>=1.0.0 in /home/edobobo/miniconda3/envs/classy/lib/python3.8/site-packages (from datasets) (5.0.0)\n",
      "Requirement already satisfied: pandas in /home/edobobo/miniconda3/envs/classy/lib/python3.8/site-packages (from datasets) (1.3.2)\n",
      "Requirement already satisfied: dill in /home/edobobo/miniconda3/envs/classy/lib/python3.8/site-packages (from datasets) (0.3.4)\n",
      "Requirement already satisfied: typing-extensions in /home/edobobo/miniconda3/envs/classy/lib/python3.8/site-packages (from huggingface-hub<0.1.0->datasets) (3.10.0.0)\n",
      "Requirement already satisfied: filelock in /home/edobobo/miniconda3/envs/classy/lib/python3.8/site-packages (from huggingface-hub<0.1.0->datasets) (3.0.12)\n",
      "Requirement already satisfied: pyparsing>=2.0.2 in /home/edobobo/miniconda3/envs/classy/lib/python3.8/site-packages (from packaging->datasets) (2.4.7)\n",
      "Requirement already satisfied: urllib3<1.27,>=1.21.1 in /home/edobobo/miniconda3/envs/classy/lib/python3.8/site-packages (from requests>=2.19.0->datasets) (1.26.6)\n",
      "Requirement already satisfied: certifi>=2017.4.17 in /home/edobobo/miniconda3/envs/classy/lib/python3.8/site-packages (from requests>=2.19.0->datasets) (2021.5.30)\n",
      "Requirement already satisfied: charset-normalizer~=2.0.0 in /home/edobobo/miniconda3/envs/classy/lib/python3.8/site-packages (from requests>=2.19.0->datasets) (2.0.4)\n",
      "Requirement already satisfied: idna<4,>=2.5 in /home/edobobo/miniconda3/envs/classy/lib/python3.8/site-packages (from requests>=2.19.0->datasets) (3.2)\n",
      "Requirement already satisfied: pytz>=2017.3 in /home/edobobo/miniconda3/envs/classy/lib/python3.8/site-packages (from pandas->datasets) (2021.1)\n",
      "Requirement already satisfied: python-dateutil>=2.7.3 in /home/edobobo/miniconda3/envs/classy/lib/python3.8/site-packages (from pandas->datasets) (2.8.2)\n",
      "Requirement already satisfied: six>=1.5 in /home/edobobo/miniconda3/envs/classy/lib/python3.8/site-packages (from python-dateutil>=2.7.3->pandas->datasets) (1.16.0)\n"
     ]
    }
   ],
   "source": [
    "! pip install datasets"
   ]
  },
  {
   "cell_type": "code",
   "execution_count": 2,
   "metadata": {},
   "outputs": [],
   "source": [
    "from datasets import load_dataset\n",
    "from tqdm.notebook import tqdm"
   ]
  },
  {
   "cell_type": "code",
   "execution_count": 3,
   "metadata": {},
   "outputs": [
    {
     "name": "stderr",
     "output_type": "stream",
     "text": [
      "Reusing dataset sentiment140 (/home/edobobo/.cache/huggingface/datasets/sentiment140/sentiment140/1.0.0/7fab67e78ff0003f3f5cdd1532c460b739c9342bf53421ccde27bc640ed45cd7)\n"
     ]
    }
   ],
   "source": [
    "# here we load the dataset dataset from \"datasets\"\n",
    "dataset = load_dataset('sentiment140')"
   ]
  },
  {
   "cell_type": "code",
   "execution_count": 4,
   "metadata": {},
   "outputs": [
    {
     "data": {
      "text/plain": [
       "{0: 'Negative', 2: 'Neutral', 4: 'Positive'}"
      ]
     },
     "execution_count": 4,
     "metadata": {},
     "output_type": "execute_result"
    }
   ],
   "source": [
    "# here we build a simple mapping from the labels in the int format stored in the hf-datasets' version of sentiment140\n",
    "# to a more readable string format.\n",
    "mapping = {\n",
    "    0: \"Negative\",\n",
    "    2: \"Neutral\",\n",
    "    4: \"Positive\",\n",
    "}\n",
    "\n",
    "mapping"
   ]
  },
  {
   "cell_type": "code",
   "execution_count": 5,
   "metadata": {},
   "outputs": [
    {
     "name": "stdout",
     "output_type": "stream",
     "text": [
      "sentiment_140  sentiment_140.ipynb\r\n"
     ]
    }
   ],
   "source": [
    "# let's create a repositiory that will contains the dataset splits\n",
    "import os\n",
    "dir_path = \"sentiment_140\"\n",
    "os.mkdir(dir_path)\n",
    "! ls"
   ]
  },
  {
   "cell_type": "code",
   "execution_count": 6,
   "metadata": {},
   "outputs": [],
   "source": [
    "# if you want the output format to be tab separated comment decomment the second line\n",
    "output_format = \"jsonl\"\n",
    "# output_format = \"tsv\"\n",
    "\n",
    "if output_format == \"jsonl\":\n",
    "    import json"
   ]
  },
  {
   "cell_type": "code",
   "execution_count": 7,
   "metadata": {},
   "outputs": [
    {
     "data": {
      "application/vnd.jupyter.widget-view+json": {
       "model_id": "18e05931c5fb48ac939d1876a86ded52",
       "version_major": 2,
       "version_minor": 0
      },
      "text/plain": [
       "  0%|          | 0/1600000 [00:00<?, ?it/s]"
      ]
     },
     "metadata": {},
     "output_type": "display_data"
    },
    {
     "data": {
      "application/vnd.jupyter.widget-view+json": {
       "model_id": "a6a78440b0b14cc7a08e0405f5f48c97",
       "version_major": 2,
       "version_minor": 0
      },
      "text/plain": [
       "  0%|          | 0/498 [00:00<?, ?it/s]"
      ]
     },
     "metadata": {},
     "output_type": "display_data"
    }
   ],
   "source": [
    "for k in ['train', 'test']:\n",
    "\n",
    "    with open(f'{dir_path}/{k}.{output_format}', 'w') as f:\n",
    "\n",
    "        for instance in tqdm(dataset[k]):\n",
    "            \n",
    "            text = instance['text'].replace('\\t', '    ')\n",
    "            sentiment = instance['sentiment']\n",
    "            sentiment = mapping[sentiment]\n",
    "\n",
    "            if output_format == \"jsonl\":\n",
    "                json_dict = dict(sequence=text, label=sentiment)\n",
    "                dump_line = json.dumps(json_dict)\n",
    "            else:\n",
    "                dump_line = f\"{text}\\t{sentiment}\"\n",
    "\n",
    "            f.write(dump_line)\n",
    "            f.write(\"\\n\")"
   ]
  },
  {
   "cell_type": "code",
   "execution_count": 8,
   "metadata": {},
   "outputs": [
    {
     "name": "stdout",
     "output_type": "stream",
     "text": [
      "{\"sequence\": \"@switchfoot http://twitpic.com/2y1zl - Awww, that's a bummer.  You shoulda got David Carr of Third Day to do it. ;D\", \"label\": \"Negative\"}\r\n",
      "{\"sequence\": \"is upset that he can't update his Facebook by texting it... and might cry as a result  School today also. Blah!\", \"label\": \"Negative\"}\r\n",
      "{\"sequence\": \"@Kenichan I dived many times for the ball. Managed to save 50%  The rest go out of bounds\", \"label\": \"Negative\"}\r\n",
      "{\"sequence\": \"my whole body feels itchy and like its on fire \", \"label\": \"Negative\"}\r\n",
      "{\"sequence\": \"@nationwideclass no, it's not behaving at all. i'm mad. why am i here? because I can't see you all over there. \", \"label\": \"Negative\"}\r\n"
     ]
    }
   ],
   "source": [
    "! head -5 $dir_path/train.$output_format"
   ]
  },
  {
   "cell_type": "code",
   "execution_count": 9,
   "metadata": {},
   "outputs": [
    {
     "name": "stdout",
     "output_type": "stream",
     "text": [
      "{\"sequence\": \"@stellargirl I loooooooovvvvvveee my Kindle2. Not that the DX is cool, but the 2 is fantastic in its own right.\", \"label\": \"Positive\"}\r\n",
      "{\"sequence\": \"Reading my kindle2...  Love it... Lee childs is good read.\", \"label\": \"Positive\"}\r\n",
      "{\"sequence\": \"Ok, first assesment of the #kindle2 ...it fucking rocks!!!\", \"label\": \"Positive\"}\r\n",
      "{\"sequence\": \"@kenburbary You'll love your Kindle2. I've had mine for a few months and never looked back. The new big one is huge! No need for remorse! :)\", \"label\": \"Positive\"}\r\n",
      "{\"sequence\": \"@mikefish  Fair enough. But i have the Kindle2 and I think it's perfect  :)\", \"label\": \"Positive\"}\r\n"
     ]
    }
   ],
   "source": [
    "! head -5 $dir_path/test.$output_format"
   ]
  },
  {
   "cell_type": "code",
   "execution_count": null,
   "metadata": {},
   "outputs": [],
   "source": []
  }
 ],
 "metadata": {
  "kernelspec": {
   "display_name": "Python 3 (ipykernel)",
   "language": "python",
   "name": "python3"
  },
  "language_info": {
   "codemirror_mode": {
    "name": "ipython",
    "version": 3
   },
   "file_extension": ".py",
   "mimetype": "text/x-python",
   "name": "python",
   "nbconvert_exporter": "python",
   "pygments_lexer": "ipython3",
   "version": "3.8.11"
  }
 },
 "nbformat": 4,
 "nbformat_minor": 4
}
