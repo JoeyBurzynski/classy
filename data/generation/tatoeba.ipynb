{
 "cells": [
  {
   "cell_type": "markdown",
   "id": "0d877e92",
   "metadata": {},
   "source": [
    "# Machine Translation: Tatoeba\n",
    "\n",
    "This is a simple notebook to download and store the [Tatoeba dataset](https://opus.nlpl.eu/Tatoeba.php). We will take it from Huggingface datasets libray (<3) and turn it into a jsonl file that classy is able to parse.\n",
    "\n",
    "After creating this dataset you can train the model by exectuing the following bash command:\n",
    "\n",
    "```bash\n",
    "classy train generation data/generation/tatoeba -n my_firt_tatoebs_run --profile mbart\n",
    "```"
   ]
  },
  {
   "cell_type": "code",
   "execution_count": null,
   "id": "8234394c",
   "metadata": {},
   "outputs": [],
   "source": [
    "import datasets"
   ]
  },
  {
   "cell_type": "code",
   "execution_count": null,
   "id": "d2eaf8f0",
   "metadata": {},
   "outputs": [],
   "source": [
    "dataset = datasets.load_dataset(\"tatoeba\", lang1=\"en\", lang2=\"it\")"
   ]
  },
  {
   "cell_type": "code",
   "execution_count": null,
   "id": "a28d19e8",
   "metadata": {},
   "outputs": [],
   "source": [
    "dataset"
   ]
  },
  {
   "cell_type": "code",
   "execution_count": null,
   "id": "3793f19f",
   "metadata": {},
   "outputs": [],
   "source": [
    "# let's create a directory that will contains the dataset splits\n",
    "import os\n",
    "dir_path = \"tatoeba\"\n",
    "os.mkdir(dir_path)\n",
    "\n",
    "! ls"
   ]
  },
  {
   "cell_type": "code",
   "execution_count": null,
   "id": "e84fbf63",
   "metadata": {},
   "outputs": [],
   "source": [
    "# jsonl and tqdm\n",
    "import json\n",
    "from tqdm.notebook import tqdm"
   ]
  },
  {
   "cell_type": "code",
   "execution_count": null,
   "id": "b77012b4",
   "metadata": {},
   "outputs": [],
   "source": [
    "with open(f\"{dir_path}/original_dataset.json\", \"w\") as f:\n",
    "\n",
    "    for instance in tqdm(dataset[\"train\"], desc=\"Loading dataset\"):\n",
    "\n",
    "        source = instance[\"translation\"][\"en\"]\n",
    "        target = instance[\"translation\"][\"it\"]\n",
    "        \n",
    "        source_language = \"en\"\n",
    "        target_language = \"it\"\n",
    "        \n",
    "        json_dict = dict(\n",
    "            source=source, \n",
    "            target=target, \n",
    "            source_language=source_language, \n",
    "            target_language=target_language\n",
    "        )\n",
    "\n",
    "        dump_line = json.dumps(json_dict)\n",
    "\n",
    "        f.write(dump_line)\n",
    "        f.write(\"\\n\")"
   ]
  },
  {
   "cell_type": "code",
   "execution_count": null,
   "id": "8d4611ad",
   "metadata": {},
   "outputs": [],
   "source": [
    "! head -5 $dir_path/original_dataset.json"
   ]
  },
  {
   "cell_type": "code",
   "execution_count": null,
   "id": "d2aab4e5",
   "metadata": {},
   "outputs": [],
   "source": [
    "# Let's split the data into train test and dev.\n",
    "# This split is completely arbitrary and is meant to be just a toy example to familiarize with classy."
   ]
  },
  {
   "cell_type": "code",
   "execution_count": null,
   "id": "5a3ce859",
   "metadata": {},
   "outputs": [],
   "source": [
    "import numpy as np\n",
    "\n",
    "file_lines = []\n",
    "with open(f\"{dir_path}/original_dataset.json\") as f:\n",
    "    for line in f:\n",
    "        file_lines.append(line)\n",
    "\n",
    "np.random.shuffle(file_lines)\n",
    "\n",
    "validation_lines = file_lines[:10_000]\n",
    "test_lines = file_lines[10_000:20_000]\n",
    "train_lines = file_lines[20_000:]\n",
    "\n",
    "dataset_lines = [train_lines, validation_lines, test_lines]\n",
    "dataset_paths = [\n",
    "    f\"{dir_path}/train.json\", \n",
    "    f\"{dir_path}/validation.json\", \n",
    "    f\"{dir_path}/test.json\"\n",
    "]\n",
    "\n",
    "for lines, output_path in zip(dataset_lines, dataset_paths):\n",
    "    with open(output_path, \"w\") as fout:\n",
    "        for line in lines:\n",
    "            fout.write(line)\n"
   ]
  },
  {
   "cell_type": "code",
   "execution_count": null,
   "id": "524f7eea",
   "metadata": {},
   "outputs": [],
   "source": [
    "! head -5 $dir_path/train.json"
   ]
  },
  {
   "cell_type": "code",
   "execution_count": null,
   "id": "bc8fa92f",
   "metadata": {},
   "outputs": [],
   "source": [
    "! head -5 $dir_path/validation.json"
   ]
  },
  {
   "cell_type": "code",
   "execution_count": null,
   "id": "c5d4f161",
   "metadata": {},
   "outputs": [],
   "source": [
    "! head -5 $dir_path/test.json"
   ]
  },
  {
   "cell_type": "code",
   "execution_count": null,
   "id": "0f60c9fd",
   "metadata": {},
   "outputs": [],
   "source": []
  }
 ],
 "metadata": {
  "kernelspec": {
   "display_name": "Python 3",
   "language": "python",
   "name": "python3"
  },
  "language_info": {
   "codemirror_mode": {
    "name": "ipython",
    "version": 3
   },
   "file_extension": ".py",
   "mimetype": "text/x-python",
   "name": "python",
   "nbconvert_exporter": "python",
   "pygments_lexer": "ipython3",
   "version": "3.7.10"
  }
 },
 "nbformat": 4,
 "nbformat_minor": 5
}
