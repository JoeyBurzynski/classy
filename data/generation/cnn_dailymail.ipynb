{
 "cells": [
  {
   "cell_type": "markdown",
   "id": "475c030c",
   "metadata": {},
   "source": [
    "# Generation: CNN Dailymail\n",
    "\n",
    "This is a simple notebook to download and store the [CNN Dailymail dataset](https://aclanthology.org/K16-1028.pdf). We will take it from Huggingface datasets libray (<3) and turn it into one of the two formats that classy is able to parse (i.e. jsonl or tsv).\n",
    "\n",
    "After creating this dataset you can train the model by exectuing the following bash command:\n",
    "\n",
    "```bash\n",
    "classy train generation data/generation/cnn_dm -n my_firt_cnn_dm_run\n",
    "```"
   ]
  },
  {
   "cell_type": "code",
   "execution_count": null,
   "id": "788928fd",
   "metadata": {},
   "outputs": [],
   "source": [
    "! pip install datasets"
   ]
  },
  {
   "cell_type": "code",
   "execution_count": null,
   "id": "d249c256",
   "metadata": {},
   "outputs": [],
   "source": [
    "from datasets import load_dataset\n",
    "from tqdm.notebook import tqdm"
   ]
  },
  {
   "cell_type": "code",
   "execution_count": null,
   "id": "eee3f8cd",
   "metadata": {},
   "outputs": [],
   "source": [
    "# here we load the dataset dataset from \"datasets\"\n",
    "dataset = load_dataset(\"cnn_dailymail\", \"3.0.0\")"
   ]
  },
  {
   "cell_type": "code",
   "execution_count": null,
   "id": "6d621611",
   "metadata": {},
   "outputs": [],
   "source": [
    "dataset"
   ]
  },
  {
   "cell_type": "code",
   "execution_count": null,
   "id": "f4a5bc34",
   "metadata": {},
   "outputs": [],
   "source": [
    "# let's create a repositiory that will contains the dataset splits\n",
    "import os\n",
    "dir_path = \"cnn_dm\"\n",
    "os.mkdir(dir_path)\n",
    "\n",
    "! ls"
   ]
  },
  {
   "cell_type": "code",
   "execution_count": null,
   "id": "251b965c",
   "metadata": {},
   "outputs": [],
   "source": [
    "# if you want the output format to be tab separated comment decomment the second line\n",
    "output_format = \"jsonl\"\n",
    "# output_format = \"tsv\"\n",
    "\n",
    "if output_format == \"jsonl\":\n",
    "    import json"
   ]
  },
  {
   "cell_type": "code",
   "execution_count": null,
   "id": "9aea0acf",
   "metadata": {},
   "outputs": [],
   "source": [
    "for split in [\"train\", \"validation\", \"test\"]:\n",
    "\n",
    "    with open(f\"{dir_path}/{split}.{output_format}\", \"w\") as f:\n",
    "\n",
    "        for instance in tqdm(dataset[split], desc=split):\n",
    "            \n",
    "            source = instance[\"article\"].replace(\"\\t\", \"    \")\n",
    "            target = instance[\"highlights\"]\n",
    "\n",
    "            if output_format == \"jsonl\":\n",
    "                json_dict = dict(source=source, target=target)\n",
    "                dump_line = json.dumps(json_dict)\n",
    "            else:\n",
    "                dump_line = f\"{source}\\t{target}\"\n",
    "\n",
    "            f.write(dump_line)\n",
    "            f.write(\"\\n\")"
   ]
  },
  {
   "cell_type": "code",
   "execution_count": null,
   "id": "188505a6",
   "metadata": {},
   "outputs": [],
   "source": [
    "! head -5 $dir_path/train.$output_format"
   ]
  },
  {
   "cell_type": "code",
   "execution_count": null,
   "id": "6e9d3b96",
   "metadata": {},
   "outputs": [],
   "source": [
    "! head -5 $dir_path/validation.$output_format"
   ]
  },
  {
   "cell_type": "code",
   "execution_count": null,
   "id": "198e3540",
   "metadata": {},
   "outputs": [],
   "source": [
    "! head -5 $dir_path/test.$output_format"
   ]
  },
  {
   "cell_type": "code",
   "execution_count": null,
   "id": "467ecd6b",
   "metadata": {},
   "outputs": [],
   "source": []
  }
 ],
 "metadata": {
  "kernelspec": {
   "display_name": "Python 3",
   "language": "python",
   "name": "python3"
  },
  "language_info": {
   "codemirror_mode": {
    "name": "ipython",
    "version": 3
   },
   "file_extension": ".py",
   "mimetype": "text/x-python",
   "name": "python",
   "nbconvert_exporter": "python",
   "pygments_lexer": "ipython3",
   "version": "3.7.10"
  }
 },
 "nbformat": 4,
 "nbformat_minor": 5
}
