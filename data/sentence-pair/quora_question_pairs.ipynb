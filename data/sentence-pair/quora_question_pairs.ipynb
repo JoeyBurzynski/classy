{
 "cells": [
  {
   "cell_type": "markdown",
   "metadata": {},
   "source": [
    "# Sentence Pair Classification : Quora Question Pairs\n",
    "\n",
    "This is a simple notebook to download and store the Quora Question Pairs dataset. We will take it from Huggingface datasets libray (<3) and turn it into one of the two formats that classy is able to parse (i.e. jsonl or tsv).\n",
    "\n",
    "After creating this dataset you can train the model by exectuing the following bash command\n",
    "```bash\n",
    "classy train sentence-pair data/sentence-pair/qqp -n my_firt_qqp_run\n",
    "```"
   ]
  },
  {
   "cell_type": "code",
   "execution_count": null,
   "metadata": {},
   "outputs": [],
   "source": [
    "! pip install datasets"
   ]
  },
  {
   "cell_type": "code",
   "execution_count": null,
   "metadata": {},
   "outputs": [],
   "source": [
    "from datasets import load_dataset\n",
    "import os\n",
    "from tqdm.notebook import tqdm"
   ]
  },
  {
   "cell_type": "code",
   "execution_count": null,
   "metadata": {},
   "outputs": [],
   "source": [
    "# here we load the dataset dataset from \"datasets\"\n",
    "dataset = load_dataset(\"glue\", \"qqp\")"
   ]
  },
  {
   "cell_type": "code",
   "execution_count": null,
   "metadata": {},
   "outputs": [],
   "source": [
    "# here we build a simple mapping from the labels in the int format stored in the hf-datasets' version of qqp\n",
    "# to a more readable string format.\n",
    "mapping = {\n",
    "    -1: \"NO-LABEL\",\n",
    "    0: \"NOT-EQUIVALENT\",\n",
    "    1: 'EQUIVALENT',\n",
    "}\n",
    "\n",
    "mapping"
   ]
  },
  {
   "cell_type": "code",
   "execution_count": null,
   "metadata": {},
   "outputs": [],
   "source": [
    "# let's create a repositiory that will contains the dataset splits\n",
    "import os\n",
    "dir_path = \"qqp\"\n",
    "os.mkdir(dir_path)\n",
    "! ls"
   ]
  },
  {
   "cell_type": "code",
   "execution_count": null,
   "metadata": {},
   "outputs": [],
   "source": [
    "# if you want the output format to be tab separated decomment the second line\n",
    "output_format = \"jsonl\"\n",
    "# output_format = \"tsv\"\n",
    "\n",
    "if output_format == \"jsonl\":\n",
    "    import json"
   ]
  },
  {
   "cell_type": "code",
   "execution_count": null,
   "metadata": {},
   "outputs": [],
   "source": [
    "for split in ['train', 'validation', 'test']:\n",
    "\n",
    "    with open(f'{dir_path}/{split}.{output_format}', 'w') as f:\n",
    "\n",
    "        for instance in tqdm(dataset[split], desc=split):\n",
    "            \n",
    "            question1 = instance[\"question1\"]\n",
    "            question2 = instance[\"question2\"]\n",
    "            label = instance[\"label\"]\n",
    "            label = mapping[label]\n",
    "\n",
    "            if output_format == \"jsonl\":\n",
    "                json_dict = dict(sentence1=question1, sentence2=question2, label=label)\n",
    "                dump_line = json.dumps(json_dict)\n",
    "            else:\n",
    "                dump_line = f\"{question1}\\t{question2}\\t{label}\"\n",
    "\n",
    "            f.write(dump_line)\n",
    "            f.write(\"\\n\")"
   ]
  },
  {
   "cell_type": "code",
   "execution_count": null,
   "metadata": {},
   "outputs": [],
   "source": [
    "! head -5 $dir_path/train.$output_format"
   ]
  },
  {
   "cell_type": "code",
   "execution_count": null,
   "metadata": {},
   "outputs": [],
   "source": [
    "! head -5 $dir_path/validation.$output_format"
   ]
  },
  {
   "cell_type": "code",
   "execution_count": null,
   "metadata": {},
   "outputs": [],
   "source": [
    "! head -5 $dir_path/test.$output_format"
   ]
  },
  {
   "cell_type": "code",
   "execution_count": null,
   "metadata": {},
   "outputs": [],
   "source": []
  }
 ],
 "metadata": {
  "kernelspec": {
   "display_name": "Python 3",
   "language": "python",
   "name": "python3"
  },
  "language_info": {
   "codemirror_mode": {
    "name": "ipython",
    "version": 3
   },
   "file_extension": ".py",
   "mimetype": "text/x-python",
   "name": "python",
   "nbconvert_exporter": "python",
   "pygments_lexer": "ipython3",
   "version": "3.7.10"
  }
 },
 "nbformat": 4,
 "nbformat_minor": 1
}
