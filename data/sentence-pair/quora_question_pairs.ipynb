{
 "cells": [
  {
   "cell_type": "markdown",
   "metadata": {},
   "source": [
    "# Sentence Pair Classification : Quora Question Pairs\n",
    "\n",
    "This is a simple notebook to download and store the Quora Question Pairs dataset. We will take it from Huggingface datasets libray (<3) and turn it into one of the two formats that classy is able to parse (i.e. jsonl or tsv).\n",
    "\n",
    "After creating this dataset you can train the model by exectuing the following bash command\n",
    "```bash\n",
    "classy train sentence-pair data/sentence-pair/quora_question_pairs -n my_firt_qqp_run\n",
    "```"
   ]
  },
  {
   "cell_type": "code",
   "execution_count": 1,
   "metadata": {},
   "outputs": [
    {
     "name": "stdout",
     "output_type": "stream",
     "text": [
      "Requirement already satisfied: datasets in /home/edobobo/miniconda3/envs/classy/lib/python3.8/site-packages (1.11.0)\n",
      "Requirement already satisfied: huggingface-hub<0.1.0 in /home/edobobo/miniconda3/envs/classy/lib/python3.8/site-packages (from datasets) (0.0.12)\n",
      "Requirement already satisfied: dill in /home/edobobo/miniconda3/envs/classy/lib/python3.8/site-packages (from datasets) (0.3.4)\n",
      "Requirement already satisfied: pyarrow!=4.0.0,>=1.0.0 in /home/edobobo/miniconda3/envs/classy/lib/python3.8/site-packages (from datasets) (5.0.0)\n",
      "Requirement already satisfied: requests>=2.19.0 in /home/edobobo/miniconda3/envs/classy/lib/python3.8/site-packages (from datasets) (2.26.0)\n",
      "Requirement already satisfied: tqdm>=4.42 in /home/edobobo/miniconda3/envs/classy/lib/python3.8/site-packages (from datasets) (4.62.2)\n",
      "Requirement already satisfied: multiprocess in /home/edobobo/miniconda3/envs/classy/lib/python3.8/site-packages (from datasets) (0.70.12.2)\n",
      "Requirement already satisfied: numpy>=1.17 in /home/edobobo/miniconda3/envs/classy/lib/python3.8/site-packages (from datasets) (1.21.2)\n",
      "Requirement already satisfied: fsspec>=2021.05.0 in /home/edobobo/miniconda3/envs/classy/lib/python3.8/site-packages (from datasets) (2021.8.1)\n",
      "Requirement already satisfied: packaging in /home/edobobo/miniconda3/envs/classy/lib/python3.8/site-packages (from datasets) (21.0)\n",
      "Requirement already satisfied: xxhash in /home/edobobo/miniconda3/envs/classy/lib/python3.8/site-packages (from datasets) (2.0.2)\n",
      "Requirement already satisfied: pandas in /home/edobobo/miniconda3/envs/classy/lib/python3.8/site-packages (from datasets) (1.3.2)\n",
      "Requirement already satisfied: typing-extensions in /home/edobobo/miniconda3/envs/classy/lib/python3.8/site-packages (from huggingface-hub<0.1.0->datasets) (3.10.0.0)\n",
      "Requirement already satisfied: filelock in /home/edobobo/miniconda3/envs/classy/lib/python3.8/site-packages (from huggingface-hub<0.1.0->datasets) (3.0.12)\n",
      "Requirement already satisfied: pyparsing>=2.0.2 in /home/edobobo/miniconda3/envs/classy/lib/python3.8/site-packages (from packaging->datasets) (2.4.7)\n",
      "Requirement already satisfied: urllib3<1.27,>=1.21.1 in /home/edobobo/miniconda3/envs/classy/lib/python3.8/site-packages (from requests>=2.19.0->datasets) (1.26.6)\n",
      "Requirement already satisfied: certifi>=2017.4.17 in /home/edobobo/miniconda3/envs/classy/lib/python3.8/site-packages (from requests>=2.19.0->datasets) (2021.5.30)\n",
      "Requirement already satisfied: idna<4,>=2.5 in /home/edobobo/miniconda3/envs/classy/lib/python3.8/site-packages (from requests>=2.19.0->datasets) (3.2)\n",
      "Requirement already satisfied: charset-normalizer~=2.0.0 in /home/edobobo/miniconda3/envs/classy/lib/python3.8/site-packages (from requests>=2.19.0->datasets) (2.0.4)\n",
      "Requirement already satisfied: pytz>=2017.3 in /home/edobobo/miniconda3/envs/classy/lib/python3.8/site-packages (from pandas->datasets) (2021.1)\n",
      "Requirement already satisfied: python-dateutil>=2.7.3 in /home/edobobo/miniconda3/envs/classy/lib/python3.8/site-packages (from pandas->datasets) (2.8.2)\n",
      "Requirement already satisfied: six>=1.5 in /home/edobobo/miniconda3/envs/classy/lib/python3.8/site-packages (from python-dateutil>=2.7.3->pandas->datasets) (1.16.0)\n"
     ]
    }
   ],
   "source": [
    "! pip install datasets"
   ]
  },
  {
   "cell_type": "code",
   "execution_count": 2,
   "metadata": {},
   "outputs": [],
   "source": [
    "from datasets import load_dataset\n",
    "import os\n",
    "from tqdm.notebook import tqdm"
   ]
  },
  {
   "cell_type": "code",
   "execution_count": 3,
   "metadata": {},
   "outputs": [
    {
     "name": "stderr",
     "output_type": "stream",
     "text": [
      "Reusing dataset glue (/home/edobobo/.cache/huggingface/datasets/glue/qqp/1.0.0/dacbe3125aa31d7f70367a07a8a9e72a5a0bfeb5fc42e75c9db75b96da6053ad)\n"
     ]
    }
   ],
   "source": [
    "# here we load the dataset dataset from \"datasets\"\n",
    "dataset = load_dataset(\"glue\", \"qqp\")"
   ]
  },
  {
   "cell_type": "code",
   "execution_count": 4,
   "metadata": {},
   "outputs": [
    {
     "data": {
      "text/plain": [
       "{-1: 'NO-LABEL', 0: 'NOT-EQUIVALENT', 1: 'EQUIVALENT'}"
      ]
     },
     "execution_count": 4,
     "metadata": {},
     "output_type": "execute_result"
    }
   ],
   "source": [
    "# here we build a simple mapping from the labels in the int format stored in the hf-datasets' version of qqp\n",
    "# to a more readable string format.\n",
    "mapping = {\n",
    "    -1: \"NO-LABEL\",\n",
    "    0: \"NOT-EQUIVALENT\",\n",
    "    1: 'EQUIVALENT',\n",
    "}\n",
    "\n",
    "mapping"
   ]
  },
  {
   "cell_type": "code",
   "execution_count": 5,
   "metadata": {},
   "outputs": [
    {
     "name": "stdout",
     "output_type": "stream",
     "text": [
      "quora_question_pairs  quora_question_pairs.ipynb\r\n"
     ]
    }
   ],
   "source": [
    "# let's create a repositiory that will contains the dataset splits\n",
    "import os\n",
    "dir_path = \"quora_question_pairs\"\n",
    "os.mkdir(dir_path)\n",
    "! ls"
   ]
  },
  {
   "cell_type": "code",
   "execution_count": 6,
   "metadata": {},
   "outputs": [],
   "source": [
    "# if you want the output format to be tab separated decomment the second line\n",
    "output_format = \"jsonl\"\n",
    "# output_format = \"tsv\"\n",
    "\n",
    "if output_format == \"jsonl\":\n",
    "    import json"
   ]
  },
  {
   "cell_type": "code",
   "execution_count": 7,
   "metadata": {},
   "outputs": [
    {
     "data": {
      "application/vnd.jupyter.widget-view+json": {
       "model_id": "36cc72774d6c4aa49d2df9015dc358c8",
       "version_major": 2,
       "version_minor": 0
      },
      "text/plain": [
       "  0%|          | 0/363846 [00:00<?, ?it/s]"
      ]
     },
     "metadata": {},
     "output_type": "display_data"
    },
    {
     "data": {
      "application/vnd.jupyter.widget-view+json": {
       "model_id": "f89fbcc9237d48a8bc1f564d2aaa0cc1",
       "version_major": 2,
       "version_minor": 0
      },
      "text/plain": [
       "  0%|          | 0/40430 [00:00<?, ?it/s]"
      ]
     },
     "metadata": {},
     "output_type": "display_data"
    },
    {
     "data": {
      "application/vnd.jupyter.widget-view+json": {
       "model_id": "ca725cf9b4454341bd3ad037f44e208b",
       "version_major": 2,
       "version_minor": 0
      },
      "text/plain": [
       "  0%|          | 0/390965 [00:00<?, ?it/s]"
      ]
     },
     "metadata": {},
     "output_type": "display_data"
    }
   ],
   "source": [
    "for k in ['train', 'validation', 'test']:\n",
    "\n",
    "    with open(f'{dir_path}/{k}.{output_format}', 'w') as f:\n",
    "\n",
    "        for instance in tqdm(dataset[k]):\n",
    "            \n",
    "            question1 = instance[\"question1\"]\n",
    "            question2 = instance[\"question2\"]\n",
    "            label = instance[\"label\"]\n",
    "            label = mapping[label]\n",
    "\n",
    "            if output_format == \"jsonl\":\n",
    "                json_dict = dict(sentence1=question1, sentence2=question2, label=label)\n",
    "                dump_line = json.dumps(json_dict)\n",
    "            else:\n",
    "                dump_line = f\"{question1}\\t{question2}\\t{label}\"\n",
    "\n",
    "            f.write(dump_line)\n",
    "            f.write(\"\\n\")"
   ]
  },
  {
   "cell_type": "code",
   "execution_count": 8,
   "metadata": {},
   "outputs": [
    {
     "name": "stdout",
     "output_type": "stream",
     "text": [
      "{\"sentence1\": \"How is the life of a math student? Could you describe your own experiences?\", \"sentence2\": \"Which level of prepration is enough for the exam jlpt5?\", \"label\": \"NOT-EQUIVALENT\"}\r\n",
      "{\"sentence1\": \"How do I control my horny emotions?\", \"sentence2\": \"How do you control your horniness?\", \"label\": \"EQUIVALENT\"}\r\n",
      "{\"sentence1\": \"What causes stool color to change to yellow?\", \"sentence2\": \"What can cause stool to come out as little balls?\", \"label\": \"NOT-EQUIVALENT\"}\r\n",
      "{\"sentence1\": \"What can one do after MBBS?\", \"sentence2\": \"What do i do after my MBBS ?\", \"label\": \"EQUIVALENT\"}\r\n",
      "{\"sentence1\": \"Where can I find a power outlet for my laptop at Melbourne Airport?\", \"sentence2\": \"Would a second airport in Sydney, Australia be needed if a high-speed rail link was created between Melbourne and Sydney?\", \"label\": \"NOT-EQUIVALENT\"}\r\n"
     ]
    }
   ],
   "source": [
    "! head -5 $dir_path/train.$output_format"
   ]
  },
  {
   "cell_type": "code",
   "execution_count": 9,
   "metadata": {},
   "outputs": [
    {
     "name": "stdout",
     "output_type": "stream",
     "text": [
      "{\"sentence1\": \"Why are African-Americans so beautiful?\", \"sentence2\": \"Why are hispanics so beautiful?\", \"label\": \"NOT-EQUIVALENT\"}\r\n",
      "{\"sentence1\": \"I want to pursue PhD in Computer Science about social network,what is the open problem in social networks?\", \"sentence2\": \"I handle social media for a non-profit. Should I start going to social media networking events? Are there any good ones in the bay area?\", \"label\": \"NOT-EQUIVALENT\"}\r\n",
      "{\"sentence1\": \"Is there a reason why we should travel alone?\", \"sentence2\": \"What are some reasons to travel alone?\", \"label\": \"EQUIVALENT\"}\r\n",
      "{\"sentence1\": \"Why are people so obsessed with having a girlfriend/boyfriend?\", \"sentence2\": \"How can a single male have a child?\", \"label\": \"NOT-EQUIVALENT\"}\r\n",
      "{\"sentence1\": \"What are some good baby girl names starting with D?\", \"sentence2\": \"What are some good baby girl names starting with D or H?\", \"label\": \"NOT-EQUIVALENT\"}\r\n"
     ]
    }
   ],
   "source": [
    "! head -5 $dir_path/validation.$output_format"
   ]
  },
  {
   "cell_type": "code",
   "execution_count": 10,
   "metadata": {},
   "outputs": [
    {
     "name": "stdout",
     "output_type": "stream",
     "text": [
      "{\"sentence1\": \"Would the idea of Trump and Putin in bed together scare you, given the geopolitical implications?\", \"sentence2\": \"Do you think that if Donald Trump were elected President, he would be able to restore relations with Putin and Russia as he said he could, based on the rocky relationship Putin had with Obama and Bush?\", \"label\": \"NO-LABEL\"}\r\n",
      "{\"sentence1\": \"What are the top ten Consumer-to-Consumer E-commerce online?\", \"sentence2\": \"What are the top ten Consumer-to-Business E-commerce online?\", \"label\": \"NO-LABEL\"}\r\n",
      "{\"sentence1\": \"Why don't people simply 'Google' instead of asking questions on Quora?\", \"sentence2\": \"Why do people ask Quora questions instead of just searching google?\", \"label\": \"NO-LABEL\"}\r\n",
      "{\"sentence1\": \"Is it safe to invest in social trade biz?\", \"sentence2\": \"Is social trade geniune?\", \"label\": \"NO-LABEL\"}\r\n",
      "{\"sentence1\": \"If the universe is expanding then does matter also expand?\", \"sentence2\": \"If universe and space is expanding? Does that mean anything that occupies space is also expanding?\", \"label\": \"NO-LABEL\"}\r\n"
     ]
    }
   ],
   "source": [
    "! head -5 $dir_path/test.$output_format"
   ]
  },
  {
   "cell_type": "code",
   "execution_count": null,
   "metadata": {},
   "outputs": [],
   "source": []
  }
 ],
 "metadata": {
  "kernelspec": {
   "display_name": "Python 3 (ipykernel)",
   "language": "python",
   "name": "python3"
  },
  "language_info": {
   "codemirror_mode": {
    "name": "ipython",
    "version": 3
   },
   "file_extension": ".py",
   "mimetype": "text/x-python",
   "name": "python",
   "nbconvert_exporter": "python",
   "pygments_lexer": "ipython3",
   "version": "3.8.11"
  }
 },
 "nbformat": 4,
 "nbformat_minor": 1
}
